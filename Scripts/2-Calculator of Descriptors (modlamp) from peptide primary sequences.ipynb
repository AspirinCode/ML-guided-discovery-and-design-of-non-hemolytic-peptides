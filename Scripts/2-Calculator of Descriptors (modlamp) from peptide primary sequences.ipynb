{
 "cells": [
  {
   "cell_type": "markdown",
   "metadata": {},
   "source": [
    "This notebook implements different functions from the modlamp package to generate physico-chemical descriptors calculated from peptide primary sequences.\n",
    "\n",
    "Müller A. T. et al. (2017) modlAMP: Python for antimicrobial peptides, Bioinformatics 33, (17), 2753-2755, DOI:10.1093/bioinformatics/btx285."
   ]
  },
  {
   "cell_type": "markdown",
   "metadata": {},
   "source": [
    "#### Set working directory"
   ]
  },
  {
   "cell_type": "code",
   "execution_count": 1,
   "metadata": {
    "collapsed": false
   },
   "outputs": [
    {
     "name": "stdout",
     "output_type": "stream",
     "text": [
      "/Users/fabienplisson/Desktop/MODELS\n"
     ]
    }
   ],
   "source": [
    "import os\n",
    "os.chdir('/Users/fabienplisson/Desktop/MODELS/')\n",
    "print(os.getcwd())"
   ]
  },
  {
   "cell_type": "markdown",
   "metadata": {},
   "source": [
    "#### Install modules"
   ]
  },
  {
   "cell_type": "code",
   "execution_count": 2,
   "metadata": {
    "collapsed": false
   },
   "outputs": [
    {
     "name": "stdout",
     "output_type": "stream",
     "text": [
      "Collecting pip\n",
      "  Downloading pip-20.2-py2.py3-none-any.whl (1.5 MB)\n",
      "\u001b[K     |████████████████████████████████| 1.5 MB 1.4 MB/s \n",
      "\u001b[?25hInstalling collected packages: pip\n",
      "  Attempting uninstall: pip\n",
      "    Found existing installation: pip 20.1.1\n",
      "    Uninstalling pip-20.1.1:\n",
      "      Successfully uninstalled pip-20.1.1\n",
      "Successfully installed pip-20.2\n",
      "Requirement already satisfied: modlamp in /Users/fabienplisson/anaconda/envs/py36/lib/python3.6/site-packages (4.1.2)\n",
      "Requirement already satisfied: scipy>=0.17.0 in /Users/fabienplisson/anaconda/envs/py36/lib/python3.6/site-packages (from modlamp) (1.3.1)\n",
      "Requirement already satisfied: lxml>=3.6.4 in /Users/fabienplisson/anaconda/envs/py36/lib/python3.6/site-packages (from modlamp) (3.7.3)\n",
      "Requirement already satisfied: requests>=2.11.1 in /Users/fabienplisson/anaconda/envs/py36/lib/python3.6/site-packages (from modlamp) (2.14.2)\n",
      "Requirement already satisfied: nose>=1.3.7 in /Users/fabienplisson/anaconda/envs/py36/lib/python3.6/site-packages (from modlamp) (1.3.7)\n",
      "Requirement already satisfied: matplotlib>=1.5.1 in /Users/fabienplisson/anaconda/envs/py36/lib/python3.6/site-packages (from modlamp) (3.1.1)\n",
      "Requirement already satisfied: pandas>=0.18.1 in /Users/fabienplisson/anaconda/envs/py36/lib/python3.6/site-packages (from modlamp) (0.24.2)\n",
      "Requirement already satisfied: setuptools>=20.2.2 in /Users/fabienplisson/anaconda/envs/py36/lib/python3.6/site-packages (from modlamp) (41.6.0)\n",
      "Requirement already satisfied: numpy>=1.10.4 in /Users/fabienplisson/anaconda/envs/py36/lib/python3.6/site-packages (from modlamp) (1.17.3)\n",
      "Requirement already satisfied: scikit-learn>=0.18.0 in /Users/fabienplisson/anaconda/envs/py36/lib/python3.6/site-packages (from modlamp) (0.22)\n",
      "Requirement already satisfied: pyparsing!=2.0.4,!=2.1.2,!=2.1.6,>=2.0.1 in /Users/fabienplisson/anaconda/envs/py36/lib/python3.6/site-packages (from matplotlib>=1.5.1->modlamp) (2.4.2)\n",
      "Requirement already satisfied: cycler>=0.10 in /Users/fabienplisson/anaconda/envs/py36/lib/python3.6/site-packages (from matplotlib>=1.5.1->modlamp) (0.10.0)\n",
      "Requirement already satisfied: python-dateutil>=2.1 in /Users/fabienplisson/anaconda/envs/py36/lib/python3.6/site-packages (from matplotlib>=1.5.1->modlamp) (2.8.1)\n",
      "Requirement already satisfied: kiwisolver>=1.0.1 in /Users/fabienplisson/anaconda/envs/py36/lib/python3.6/site-packages (from matplotlib>=1.5.1->modlamp) (1.1.0)\n",
      "Requirement already satisfied: pytz>=2011k in /Users/fabienplisson/anaconda/envs/py36/lib/python3.6/site-packages (from pandas>=0.18.1->modlamp) (2017.2)\n",
      "Requirement already satisfied: joblib>=0.11 in /Users/fabienplisson/anaconda/envs/py36/lib/python3.6/site-packages (from scikit-learn>=0.18.0->modlamp) (0.14.0)\n",
      "Requirement already satisfied: six in /Users/fabienplisson/anaconda/envs/py36/lib/python3.6/site-packages (from cycler>=0.10->matplotlib>=1.5.1->modlamp) (1.12.0)\n",
      "Requirement already satisfied: mysql.connector in /Users/fabienplisson/anaconda/envs/py36/lib/python3.6/site-packages (2.2.9)\n"
     ]
    }
   ],
   "source": [
    "# Pip install modules\n",
    "import sys\n",
    "!{sys.executable} -m pip install --upgrade pip\n",
    "!{sys.executable} -m pip install modlamp\n",
    "!{sys.executable} -m pip install mysql.connector"
   ]
  },
  {
   "cell_type": "code",
   "execution_count": 3,
   "metadata": {
    "collapsed": true
   },
   "outputs": [],
   "source": [
    "import matplotlib.pyplot as plt\n",
    "import pandas as pd"
   ]
  },
  {
   "cell_type": "markdown",
   "metadata": {},
   "source": [
    "#### Calculate Decriptors"
   ]
  },
  {
   "cell_type": "code",
   "execution_count": 41,
   "metadata": {
    "collapsed": true
   },
   "outputs": [],
   "source": [
    "from modlamp.descriptors import PeptideDescriptor, GlobalDescriptor"
   ]
  },
  {
   "cell_type": "markdown",
   "metadata": {},
   "source": [
    "Peptides from APD database"
   ]
  },
  {
   "cell_type": "code",
   "execution_count": 47,
   "metadata": {
    "collapsed": true
   },
   "outputs": [],
   "source": [
    "#N=3081\n",
    "pepdesc_totalAPD = PeptideDescriptor('./Data/total_APD.fasta', 'eisenberg')\n",
    "globdesc_totalAPD = GlobalDescriptor('./Data/total_APD.fasta')"
   ]
  },
  {
   "cell_type": "markdown",
   "metadata": {},
   "source": [
    "Peptides HemoPI-1 from Hemolytik"
   ]
  },
  {
   "cell_type": "code",
   "execution_count": 28,
   "metadata": {
    "collapsed": true
   },
   "outputs": [],
   "source": [
    "# N=442\n",
    "pepdesc_HemoPI1pm = PeptideDescriptor('./Data/Hemolytik_datasets/HemoPI-1/HemoPI-1_model_class1.fasta', 'eisenberg')\n",
    "globdesc_HemoPI1pm = GlobalDescriptor('./Data/Hemolytik_datasets/HemoPI-1/HemoPI-1_model_class1.fasta')"
   ]
  },
  {
   "cell_type": "code",
   "execution_count": 29,
   "metadata": {
    "collapsed": true
   },
   "outputs": [],
   "source": [
    "# N=442\n",
    "pepdesc_HemoPI1nm = PeptideDescriptor('./Data/Hemolytik_datasets/HemoPI-1/HemoPI-1_model_class0.fasta', 'eisenberg')\n",
    "globdesc_HemoPI1nm = GlobalDescriptor('./Data/Hemolytik_datasets/HemoPI-1/HemoPI-1_model_class0.fasta')"
   ]
  },
  {
   "cell_type": "code",
   "execution_count": 30,
   "metadata": {
    "collapsed": true
   },
   "outputs": [],
   "source": [
    "# N=110\n",
    "pepdesc_HemoPI1pv = PeptideDescriptor('./Data/Hemolytik_datasets/HemoPI-1/HemoPI-1_validation_class1.fasta', 'eisenberg')\n",
    "globdesc_HemoPI1pv = GlobalDescriptor('./Data/Hemolytik_datasets/HemoPI-1/HemoPI-1_validation_class1.fasta')"
   ]
  },
  {
   "cell_type": "code",
   "execution_count": 31,
   "metadata": {
    "collapsed": true
   },
   "outputs": [],
   "source": [
    "# N=110\n",
    "pepdesc_HemoPI1nv = PeptideDescriptor('./Data/Hemolytik_datasets/HemoPI-1/HemoPI-1_validation_class0.fasta', 'eisenberg')\n",
    "globdesc_HemoPI1nv = GlobalDescriptor('./Data/Hemolytik_datasets/HemoPI-1/HemoPI-1_validation_class0.fasta')"
   ]
  },
  {
   "cell_type": "markdown",
   "metadata": {},
   "source": [
    "Peptides HemoPI-2 from Hemolytik"
   ]
  },
  {
   "cell_type": "code",
   "execution_count": 19,
   "metadata": {
    "collapsed": true
   },
   "outputs": [],
   "source": [
    "# N=442\n",
    "pepdesc_HemoPI2pm = PeptideDescriptor('./Data/Hemolytik_datasets/HemoPI-2/HemoPI-2_model_class1.fasta', 'eisenberg')\n",
    "globdesc_HemoPI2pm = GlobalDescriptor('./Data/Hemolytik_datasets/HemoPI-2/HemoPI-2_model_class1.fasta')"
   ]
  },
  {
   "cell_type": "code",
   "execution_count": 20,
   "metadata": {
    "collapsed": true
   },
   "outputs": [],
   "source": [
    "# N=370\n",
    "pepdesc_HemoPI2nm = PeptideDescriptor('./Data/Hemolytik_datasets/HemoPI-2/HemoPI-2_model_class0.fasta', 'eisenberg')\n",
    "globdesc_HemoPI2nm = GlobalDescriptor('./Data/Hemolytik_datasets/HemoPI-2/HemoPI-2_model_class0.fasta')"
   ]
  },
  {
   "cell_type": "code",
   "execution_count": 21,
   "metadata": {
    "collapsed": true
   },
   "outputs": [],
   "source": [
    "# N=110\n",
    "pepdesc_HemoPI2pv = PeptideDescriptor('./Data/Hemolytik_datasets/HemoPI-2/HemoPI-2_validation_class1.fasta', 'eisenberg')\n",
    "globdesc_HemoPI2pv = GlobalDescriptor('./Data/Hemolytik_datasets/HemoPI-2/HemoPI-2_validation_class1.fasta')"
   ]
  },
  {
   "cell_type": "code",
   "execution_count": 22,
   "metadata": {
    "collapsed": true
   },
   "outputs": [],
   "source": [
    "# N=92\n",
    "pepdesc_HemoPI2nv = PeptideDescriptor('./Data/Hemolytik_datasets/HemoPI-2/HemoPI-2_validation_class0.fasta', 'eisenberg')\n",
    "globdesc_HemoPI2nv = GlobalDescriptor('./Data/Hemolytik_datasets/HemoPI-2/HemoPI-2_validation_class0.fasta')"
   ]
  },
  {
   "cell_type": "markdown",
   "metadata": {},
   "source": [
    "Peptides HemoPI-3 from Hemolytik"
   ]
  },
  {
   "cell_type": "code",
   "execution_count": 23,
   "metadata": {
    "collapsed": true
   },
   "outputs": [],
   "source": [
    "# N=708\n",
    "pepdesc_HemoPI3pm = PeptideDescriptor('./Data/Hemolytik_datasets/HemoPI-3/HemoPI-3_model_class1.fasta', 'eisenberg')\n",
    "globdesc_HemoPI3pm = GlobalDescriptor('./Data/Hemolytik_datasets/HemoPI-3/HemoPI-3_model_class1.fasta')"
   ]
  },
  {
   "cell_type": "code",
   "execution_count": 24,
   "metadata": {
    "collapsed": true
   },
   "outputs": [],
   "source": [
    "# N=590\n",
    "pepdesc_HemoPI3nm = PeptideDescriptor('./Data/Hemolytik_datasets/HemoPI-3/HemoPI-3_model_class0.fasta', 'eisenberg')\n",
    "globdesc_HemoPI3nm = GlobalDescriptor('./Data/Hemolytik_datasets/HemoPI-3/HemoPI-3_model_class0.fasta')"
   ]
  },
  {
   "cell_type": "code",
   "execution_count": 25,
   "metadata": {
    "collapsed": true
   },
   "outputs": [],
   "source": [
    "# N=177\n",
    "pepdesc_HemoPI3pv = PeptideDescriptor('./Data/Hemolytik_datasets/HemoPI-3/HemoPI-3_validation_class1.fasta', 'eisenberg')\n",
    "globdesc_HemoPI3pv = GlobalDescriptor('./Data/Hemolytik_datasets/HemoPI-3/HemoPI-3_validation_class1.fasta')"
   ]
  },
  {
   "cell_type": "code",
   "execution_count": 26,
   "metadata": {
    "collapsed": true
   },
   "outputs": [],
   "source": [
    "# N=148\n",
    "pepdesc_HemoPI3nv = PeptideDescriptor('./Data/Hemolytik_datasets/HemoPI-3/HemoPI-3_validation_class0.fasta', 'eisenberg')\n",
    "globdesc_HemoPI3nv = GlobalDescriptor('./Data/Hemolytik_datasets/HemoPI-3/HemoPI-3_validation_class0.fasta')"
   ]
  },
  {
   "cell_type": "markdown",
   "metadata": {},
   "source": [
    "#### Peptide Descriptors"
   ]
  },
  {
   "cell_type": "code",
   "execution_count": 48,
   "metadata": {
    "collapsed": true
   },
   "outputs": [],
   "source": [
    "pepdesc_totalAPD.load_scale('eisenberg')\n",
    "pepdesc_totalAPD.calculate_global()  # calculate global Eisenberg hydrophobicity\n",
    "pepdesc_totalAPD.calculate_moment(append=True)\n",
    "pepdesc_totalAPD.load_scale('gravy')  # load GRAVY scale\n",
    "pepdesc_totalAPD.calculate_global(append=True)  # calculate global GRAVY hydrophobicity\n",
    "pepdesc_totalAPD.calculate_moment(append=True)  # calculate GRAVY hydrophobic moment\n",
    "pepdesc_totalAPD.load_scale('z3')  # load old Z scale\n",
    "pepdesc_totalAPD.calculate_autocorr(1, append=True)  # calculate global Z scale (=window1 autocorrelation)\n",
    "pepdesc_totalAPD.load_scale('z5')  # load old Z scale\n",
    "pepdesc_totalAPD.calculate_autocorr(1, append=True)  # calculate global Z scale (=window1 autocorrelation)\n",
    "pepdesc_totalAPD.load_scale('AASI')\n",
    "pepdesc_totalAPD.calculate_global(append=True)  # calculate global AASI index\n",
    "pepdesc_totalAPD.calculate_moment(append=True)  # calculate AASI index moment\n",
    "pepdesc_totalAPD.load_scale('ABHPRK')\n",
    "pepdesc_totalAPD.calculate_global(append=True)  # calculate ABHPRK feature \n",
    "pepdesc_totalAPD.load_scale('argos')\n",
    "pepdesc_totalAPD.calculate_global(append=True)  # calculate global argos index\n",
    "pepdesc_totalAPD.calculate_moment(append=True)  # calculate argos index moment\n",
    "pepdesc_totalAPD.load_scale('bulkiness')\n",
    "pepdesc_totalAPD.calculate_global(append=True)  # calculate global bulkiness index\n",
    "pepdesc_totalAPD.calculate_moment(append=True)  # calculate bulkiness index moment\n",
    "pepdesc_totalAPD.load_scale('charge_phys')\n",
    "pepdesc_totalAPD.calculate_global(append=True)  # calculate global charge_phys index\n",
    "pepdesc_totalAPD.load_scale('charge_acid')\n",
    "pepdesc_totalAPD.calculate_global(append=True)  # calculate global charge_acid index\n",
    "pepdesc_totalAPD.load_scale('Ez')\n",
    "pepdesc_totalAPD.calculate_global(append=True)  # calculate global energies of insertion of amino acid side chains into lipid bilayers index\n",
    "pepdesc_totalAPD.load_scale('flexibility')\n",
    "pepdesc_totalAPD.calculate_global(append=True)  # calculate global flexibility scale\n",
    "pepdesc_totalAPD.calculate_moment(append=True)  # calculate flexibility moment\n",
    "pepdesc_totalAPD.load_scale('grantham')\n",
    "pepdesc_totalAPD.calculate_global(append=True)  # calculate global amino acid side chain composition, polarity and molecular volume\n",
    "pepdesc_totalAPD.load_scale('hopp-woods')\n",
    "pepdesc_totalAPD.calculate_global(append=True)  # calculate global Hopp-Woods hydrophobicity scale\n",
    "pepdesc_totalAPD.calculate_moment(append=True)  # calculate Hopp-Woods hydrophobicity moment\n",
    "pepdesc_totalAPD.load_scale('ISAECI')\n",
    "pepdesc_totalAPD.calculate_global(append=True) # calculate global ISAECI (Isotropic Surface Area (ISA) and Electronic Charge Index (ECI) of amino acid side chains) index\n",
    "pepdesc_totalAPD.load_scale('janin')\n",
    "pepdesc_totalAPD.calculate_global(append=True)  # calculate global Janin hydrophobicity scale\n",
    "pepdesc_totalAPD.calculate_moment(append=True)  # calculate Janin hydrophobicity moment\n",
    "pepdesc_totalAPD.load_scale('kytedoolittle')\n",
    "pepdesc_totalAPD.calculate_global(append=True)  # calculate global Kyte & Doolittle hydrophobicity scale\n",
    "pepdesc_totalAPD.calculate_moment(append=True)  # calculate Kyte & Doolittle hydrophobicity moment\n",
    "pepdesc_totalAPD.load_scale('levitt_alpha')\n",
    "pepdesc_totalAPD.calculate_global(append=True)  # calculate global Levitt alpha-helix propensity scale\n",
    "pepdesc_totalAPD.calculate_moment(append=True)  # calculate Levitt alpha-helix propensity moment\n",
    "pepdesc_totalAPD.load_scale('MSS')\n",
    "pepdesc_totalAPD.calculate_global(append=True)  # calculate global MSS index, graph-theoretical index that reflects topological shape and size of amino acid side chains\n",
    "pepdesc_totalAPD.calculate_moment(append=True)  # calculate MSS moment\n",
    "pepdesc_totalAPD.load_scale('MSW')\n",
    "pepdesc_totalAPD.calculate_global(append=True)  # calculate global MSW scale, Amino acid scale based on a PCA of the molecular surface based WHIM descriptor (MS-WHIM), extended to natural amino acids\n",
    "pepdesc_totalAPD.load_scale('pepArc')\n",
    "pepdesc_totalAPD.calculate_global(append=True) # calculate global pepArc, modlabs pharmacophoric feature scale, dimensions are: hydrophobicity, polarity, positive charge, negative charge, proline.\n",
    "pepdesc_totalAPD.load_scale('pepcats')\n",
    "pepdesc_totalAPD.calculate_global(append=True) # calculate global pepcats, modlabs pharmacophoric feature based PEPCATS scale\n",
    "pepdesc_totalAPD.load_scale('polarity')\n",
    "pepdesc_totalAPD.calculate_global(append=True)  # calculate global AA polarity \n",
    "pepdesc_totalAPD.calculate_moment(append=True)  # calculate AA polarity moment\n",
    "pepdesc_totalAPD.load_scale('PPCALI')\n",
    "pepdesc_totalAPD.calculate_global(append=True)  # calculate global modlabs inhouse scale derived from a PCA of 143 amino acid property scales\n",
    "pepdesc_totalAPD.load_scale('refractivity')\n",
    "pepdesc_totalAPD.calculate_global(append=True) # calculate global relative AA refractivity\n",
    "pepdesc_totalAPD.calculate_moment(append=True) # calculate relative AA refractivity moment\n",
    "pepdesc_totalAPD.load_scale('t_scale')\n",
    "pepdesc_totalAPD.calculate_global(append=True) # calculate global t scale, A PCA derived scale based on amino acid side chain properties calculated with 6 different probes of the GRID program\n",
    "pepdesc_totalAPD.load_scale('TM_tend')\n",
    "pepdesc_totalAPD.calculate_global(append=True) # calculate global Amino acid transmembrane propensity scale\n",
    "pepdesc_totalAPD.calculate_moment(append=True) # calculate Amino acid transmembrane propensity scale moment\n",
    "\n",
    "\n",
    "col_names1 = 'ID,Sequence,H_Eisenberg,uH_Eisenberg,H_GRAVY,uH_GRAVY,Z3_1,Z3_2,Z3_3, Z5_1,Z5_2,Z5_3, Z5_4,Z5_5,S_AASI, uS_AASI, modlas_ABHPRK, H_argos, uH_argos, B_Builkiness, uB_Builkiness, charge_phys, charge_acid, Ez, flexibility, u_flexibility, Grantham, H_HoppWoods, uH-HoppWoods, ISAECI, H_Janin, uH_Janin, H_KyteDoolittle, uH_KyteDoolittle, F_Levitt, uF_Levitt, MSS_shape, u_MSS_shape, MSW, pepArc, pepcats, polarity, u_polarity, PPCALI, refractivity, u_refractivity, t_scale, TM_tend, u_TM_tend'\n",
    "pepdesc_totalAPD.save_descriptor('./Descriptors/pep_descriptors_totalAPD.csv', header=col_names1)"
   ]
  },
  {
   "cell_type": "markdown",
   "metadata": {},
   "source": [
    "Peptides from Hemolytik database: class1 & model (pm), class0 & model (nm), class1 & validation (pv), class 0 & validation (nv)"
   ]
  },
  {
   "cell_type": "markdown",
   "metadata": {},
   "source": [
    "HemoPI-1 dataset"
   ]
  },
  {
   "cell_type": "code",
   "execution_count": 32,
   "metadata": {
    "collapsed": true
   },
   "outputs": [],
   "source": [
    "pepdesc_HemoPI1pm.load_scale('eisenberg')\n",
    "pepdesc_HemoPI1pm.calculate_global()  # calculate global Eisenberg hydrophobicity\n",
    "pepdesc_HemoPI1pm.calculate_moment(append=True)\n",
    "pepdesc_HemoPI1pm.load_scale('gravy')  # load GRAVY scale\n",
    "pepdesc_HemoPI1pm.calculate_global(append=True)  # calculate global GRAVY hydrophobicity\n",
    "pepdesc_HemoPI1pm.calculate_moment(append=True)  # calculate GRAVY hydrophobic moment\n",
    "pepdesc_HemoPI1pm.load_scale('z3')  # load old Z scale\n",
    "pepdesc_HemoPI1pm.calculate_autocorr(1, append=True)  # calculate global Z scale (=window1 autocorrelation)\n",
    "pepdesc_HemoPI1pm.load_scale('z5')  # load old Z scale\n",
    "pepdesc_HemoPI1pm.calculate_autocorr(1, append=True)  # calculate global Z scale (=window1 autocorrelation)\n",
    "pepdesc_HemoPI1pm.load_scale('AASI')\n",
    "pepdesc_HemoPI1pm.calculate_global(append=True)  # calculate global AASI index\n",
    "pepdesc_HemoPI1pm.calculate_moment(append=True)  # calculate AASI index moment\n",
    "pepdesc_HemoPI1pm.load_scale('ABHPRK')\n",
    "pepdesc_HemoPI1pm.calculate_global(append=True)  # calculate ABHPRK feature \n",
    "pepdesc_HemoPI1pm.load_scale('argos')\n",
    "pepdesc_HemoPI1pm.calculate_global(append=True)  # calculate global argos index\n",
    "pepdesc_HemoPI1pm.calculate_moment(append=True)  # calculate argos index moment\n",
    "pepdesc_HemoPI1pm.load_scale('bulkiness')\n",
    "pepdesc_HemoPI1pm.calculate_global(append=True)  # calculate global bulkiness index\n",
    "pepdesc_HemoPI1pm.calculate_moment(append=True)  # calculate bulkiness index moment\n",
    "pepdesc_HemoPI1pm.load_scale('charge_phys')\n",
    "pepdesc_HemoPI1pm.calculate_global(append=True)  # calculate global charge_phys index\n",
    "pepdesc_HemoPI1pm.load_scale('charge_acid')\n",
    "pepdesc_HemoPI1pm.calculate_global(append=True)  # calculate global charge_acid index\n",
    "pepdesc_HemoPI1pm.load_scale('Ez')\n",
    "pepdesc_HemoPI1pm.calculate_global(append=True)  # calculate global energies of insertion of amino acid side chains into lipid bilayers index\n",
    "pepdesc_HemoPI1pm.load_scale('flexibility')\n",
    "pepdesc_HemoPI1pm.calculate_global(append=True)  # calculate global flexibility scale\n",
    "pepdesc_HemoPI1pm.calculate_moment(append=True)  # calculate flexibility moment\n",
    "pepdesc_HemoPI1pm.load_scale('grantham')\n",
    "pepdesc_HemoPI1pm.calculate_global(append=True)  # calculate global amino acid side chain composition, polarity and molecular volume\n",
    "pepdesc_HemoPI1pm.load_scale('hopp-woods')\n",
    "pepdesc_HemoPI1pm.calculate_global(append=True)  # calculate global Hopp-Woods hydrophobicity scale\n",
    "pepdesc_HemoPI1pm.calculate_moment(append=True)  # calculate Hopp-Woods hydrophobicity moment\n",
    "pepdesc_HemoPI1pm.load_scale('ISAECI')\n",
    "pepdesc_HemoPI1pm.calculate_global(append=True) # calculate global ISAECI (Isotropic Surface Area (ISA) and Electronic Charge Index (ECI) of amino acid side chains) index\n",
    "pepdesc_HemoPI1pm.load_scale('janin')\n",
    "pepdesc_HemoPI1pm.calculate_global(append=True)  # calculate global Janin hydrophobicity scale\n",
    "pepdesc_HemoPI1pm.calculate_moment(append=True)  # calculate Janin hydrophobicity moment\n",
    "pepdesc_HemoPI1pm.load_scale('kytedoolittle')\n",
    "pepdesc_HemoPI1pm.calculate_global(append=True)  # calculate global Kyte & Doolittle hydrophobicity scale\n",
    "pepdesc_HemoPI1pm.calculate_moment(append=True)  # calculate Kyte & Doolittle hydrophobicity moment\n",
    "pepdesc_HemoPI1pm.load_scale('levitt_alpha')\n",
    "pepdesc_HemoPI1pm.calculate_global(append=True)  # calculate global Levitt alpha-helix propensity scale\n",
    "pepdesc_HemoPI1pm.calculate_moment(append=True)  # calculate Levitt alpha-helix propensity moment\n",
    "pepdesc_HemoPI1pm.load_scale('MSS')\n",
    "pepdesc_HemoPI1pm.calculate_global(append=True)  # calculate global MSS index, graph-theoretical index that reflects topological shape and size of amino acid side chains\n",
    "pepdesc_HemoPI1pm.calculate_moment(append=True)  # calculate MSS moment\n",
    "pepdesc_HemoPI1pm.load_scale('MSW')\n",
    "pepdesc_HemoPI1pm.calculate_global(append=True)  # calculate global MSW scale, Amino acid scale based on a PCA of the molecular surface based WHIM descriptor (MS-WHIM), extended to natural amino acids\n",
    "pepdesc_HemoPI1pm.load_scale('pepArc')\n",
    "pepdesc_HemoPI1pm.calculate_global(append=True) # calculate global pepArc, modlabs pharmacophoric feature scale, dimensions are: hydrophobicity, polarity, positive charge, negative charge, proline.\n",
    "pepdesc_HemoPI1pm.load_scale('pepcats')\n",
    "pepdesc_HemoPI1pm.calculate_global(append=True) # calculate global pepcats, modlabs pharmacophoric feature based PEPCATS scale\n",
    "pepdesc_HemoPI1pm.load_scale('polarity')\n",
    "pepdesc_HemoPI1pm.calculate_global(append=True)  # calculate global AA polarity \n",
    "pepdesc_HemoPI1pm.calculate_moment(append=True)  # calculate AA polarity moment\n",
    "pepdesc_HemoPI1pm.load_scale('PPCALI')\n",
    "pepdesc_HemoPI1pm.calculate_global(append=True)  # calculate global modlabs inhouse scale derived from a PCA of 143 amino acid property scales\n",
    "pepdesc_HemoPI1pm.load_scale('refractivity')\n",
    "pepdesc_HemoPI1pm.calculate_global(append=True) # calculate global relative AA refractivity\n",
    "pepdesc_HemoPI1pm.calculate_moment(append=True) # calculate relative AA refractivity moment\n",
    "pepdesc_HemoPI1pm.load_scale('t_scale')\n",
    "pepdesc_HemoPI1pm.calculate_global(append=True) # calculate global t scale, A PCA derived scale based on amino acid side chain properties calculated with 6 different probes of the GRID program\n",
    "pepdesc_HemoPI1pm.load_scale('TM_tend')\n",
    "pepdesc_HemoPI1pm.calculate_global(append=True) # calculate global Amino acid transmembrane propensity scale\n",
    "pepdesc_HemoPI1pm.calculate_moment(append=True) # calculate Amino acid transmembrane propensity scale moment\n",
    "\n",
    "\n",
    "col_names1 = 'ID,Sequence,H_Eisenberg,uH_Eisenberg,H_GRAVY,uH_GRAVY,Z3_1,Z3_2,Z3_3, Z5_1,Z5_2,Z5_3, Z5_4,Z5_5,S_AASI, uS_AASI, modlas_ABHPRK, H_argos, uH_argos, B_Builkiness, uB_Builkiness, charge_phys, charge_acid, Ez, flexibility, u_flexibility, Grantham, H_HoppWoods, uH-HoppWoods, ISAECI, H_Janin, uH_Janin, H_KyteDoolittle, uH_KyteDoolittle, F_Levitt, uF_Levitt, MSS_shape, u_MSS_shape, MSW, pepArc, pepcats, polarity, u_polarity, PPCALI, refractivity, u_refractivity, t_scale, TM_tend, u_TM_tend'\n",
    "pepdesc_HemoPI1pm.save_descriptor('./Descriptors/pep_descriptors_HemoPI1pm.csv', header=col_names1)"
   ]
  },
  {
   "cell_type": "code",
   "execution_count": 33,
   "metadata": {
    "collapsed": true
   },
   "outputs": [],
   "source": [
    "pepdesc_HemoPI1nm.load_scale('eisenberg')\n",
    "pepdesc_HemoPI1nm.calculate_global()  # calculate global Eisenberg hydrophobicity\n",
    "pepdesc_HemoPI1nm.calculate_moment(append=True)\n",
    "pepdesc_HemoPI1nm.load_scale('gravy')  # load GRAVY scale\n",
    "pepdesc_HemoPI1nm.calculate_global(append=True)  # calculate global GRAVY hydrophobicity\n",
    "pepdesc_HemoPI1nm.calculate_moment(append=True)  # calculate GRAVY hydrophobic moment\n",
    "pepdesc_HemoPI1nm.load_scale('z3')  # load old Z scale\n",
    "pepdesc_HemoPI1nm.calculate_autocorr(1, append=True)  # calculate global Z scale (=window1 autocorrelation)\n",
    "pepdesc_HemoPI1nm.load_scale('z5')  # load old Z scale\n",
    "pepdesc_HemoPI1nm.calculate_autocorr(1, append=True)  # calculate global Z scale (=window1 autocorrelation)\n",
    "pepdesc_HemoPI1nm.load_scale('AASI')\n",
    "pepdesc_HemoPI1nm.calculate_global(append=True)  # calculate global AASI index\n",
    "pepdesc_HemoPI1nm.calculate_moment(append=True)  # calculate AASI index moment\n",
    "pepdesc_HemoPI1nm.load_scale('ABHPRK')\n",
    "pepdesc_HemoPI1nm.calculate_global(append=True)  # calculate ABHPRK feature \n",
    "pepdesc_HemoPI1nm.load_scale('argos')\n",
    "pepdesc_HemoPI1nm.calculate_global(append=True)  # calculate global argos index\n",
    "pepdesc_HemoPI1nm.calculate_moment(append=True)  # calculate argos index moment\n",
    "pepdesc_HemoPI1nm.load_scale('bulkiness')\n",
    "pepdesc_HemoPI1nm.calculate_global(append=True)  # calculate global bulkiness index\n",
    "pepdesc_HemoPI1nm.calculate_moment(append=True)  # calculate bulkiness index moment\n",
    "pepdesc_HemoPI1nm.load_scale('charge_phys')\n",
    "pepdesc_HemoPI1nm.calculate_global(append=True)  # calculate global charge_phys index\n",
    "pepdesc_HemoPI1nm.load_scale('charge_acid')\n",
    "pepdesc_HemoPI1nm.calculate_global(append=True)  # calculate global charge_acid index\n",
    "pepdesc_HemoPI1nm.load_scale('Ez')\n",
    "pepdesc_HemoPI1nm.calculate_global(append=True)  # calculate global energies of insertion of amino acid side chains into lipid bilayers index\n",
    "pepdesc_HemoPI1nm.load_scale('flexibility')\n",
    "pepdesc_HemoPI1nm.calculate_global(append=True)  # calculate global flexibility scale\n",
    "pepdesc_HemoPI1nm.calculate_moment(append=True)  # calculate flexibility moment\n",
    "pepdesc_HemoPI1nm.load_scale('grantham')\n",
    "pepdesc_HemoPI1nm.calculate_global(append=True)  # calculate global amino acid side chain composition, polarity and molecular volume\n",
    "pepdesc_HemoPI1nm.load_scale('hopp-woods')\n",
    "pepdesc_HemoPI1nm.calculate_global(append=True)  # calculate global Hopp-Woods hydrophobicity scale\n",
    "pepdesc_HemoPI1nm.calculate_moment(append=True)  # calculate Hopp-Woods hydrophobicity moment\n",
    "pepdesc_HemoPI1nm.load_scale('ISAECI')\n",
    "pepdesc_HemoPI1nm.calculate_global(append=True) # calculate global ISAECI (Isotropic Surface Area (ISA) and Electronic Charge Index (ECI) of amino acid side chains) index\n",
    "pepdesc_HemoPI1nm.load_scale('janin')\n",
    "pepdesc_HemoPI1nm.calculate_global(append=True)  # calculate global Janin hydrophobicity scale\n",
    "pepdesc_HemoPI1nm.calculate_moment(append=True)  # calculate Janin hydrophobicity moment\n",
    "pepdesc_HemoPI1nm.load_scale('kytedoolittle')\n",
    "pepdesc_HemoPI1nm.calculate_global(append=True)  # calculate global Kyte & Doolittle hydrophobicity scale\n",
    "pepdesc_HemoPI1nm.calculate_moment(append=True)  # calculate Kyte & Doolittle hydrophobicity moment\n",
    "pepdesc_HemoPI1nm.load_scale('levitt_alpha')\n",
    "pepdesc_HemoPI1nm.calculate_global(append=True)  # calculate global Levitt alpha-helix propensity scale\n",
    "pepdesc_HemoPI1nm.calculate_moment(append=True)  # calculate Levitt alpha-helix propensity moment\n",
    "pepdesc_HemoPI1nm.load_scale('MSS')\n",
    "pepdesc_HemoPI1nm.calculate_global(append=True)  # calculate global MSS index, graph-theoretical index that reflects topological shape and size of amino acid side chains\n",
    "pepdesc_HemoPI1nm.calculate_moment(append=True)  # calculate MSS moment\n",
    "pepdesc_HemoPI1nm.load_scale('MSW')\n",
    "pepdesc_HemoPI1nm.calculate_global(append=True)  # calculate global MSW scale, Amino acid scale based on a PCA of the molecular surface based WHIM descriptor (MS-WHIM), extended to natural amino acids\n",
    "pepdesc_HemoPI1nm.load_scale('pepArc')\n",
    "pepdesc_HemoPI1nm.calculate_global(append=True) # calculate global pepArc, modlabs pharmacophoric feature scale, dimensions are: hydrophobicity, polarity, positive charge, negative charge, proline.\n",
    "pepdesc_HemoPI1nm.load_scale('pepcats')\n",
    "pepdesc_HemoPI1nm.calculate_global(append=True) # calculate global pepcats, modlabs pharmacophoric feature based PEPCATS scale\n",
    "pepdesc_HemoPI1nm.load_scale('polarity')\n",
    "pepdesc_HemoPI1nm.calculate_global(append=True)  # calculate global AA polarity \n",
    "pepdesc_HemoPI1nm.calculate_moment(append=True)  # calculate AA polarity moment\n",
    "pepdesc_HemoPI1nm.load_scale('PPCALI')\n",
    "pepdesc_HemoPI1nm.calculate_global(append=True)  # calculate global modlabs inhouse scale derived from a PCA of 143 amino acid property scales\n",
    "pepdesc_HemoPI1nm.load_scale('refractivity')\n",
    "pepdesc_HemoPI1nm.calculate_global(append=True) # calculate global relative AA refractivity\n",
    "pepdesc_HemoPI1nm.calculate_moment(append=True) # calculate relative AA refractivity moment\n",
    "pepdesc_HemoPI1nm.load_scale('t_scale')\n",
    "pepdesc_HemoPI1nm.calculate_global(append=True) # calculate global t scale, A PCA derived scale based on amino acid side chain properties calculated with 6 different probes of the GRID program\n",
    "pepdesc_HemoPI1nm.load_scale('TM_tend')\n",
    "pepdesc_HemoPI1nm.calculate_global(append=True) # calculate global Amino acid transmembrane propensity scale\n",
    "pepdesc_HemoPI1nm.calculate_moment(append=True) # calculate Amino acid transmembrane propensity scale moment\n",
    "\n",
    "\n",
    "col_names1 = 'ID,Sequence,H_Eisenberg,uH_Eisenberg,H_GRAVY,uH_GRAVY,Z3_1,Z3_2,Z3_3, Z5_1,Z5_2,Z5_3, Z5_4,Z5_5,S_AASI, uS_AASI, modlas_ABHPRK, H_argos, uH_argos, B_Builkiness, uB_Builkiness, charge_phys, charge_acid, Ez, flexibility, u_flexibility, Grantham, H_HoppWoods, uH-HoppWoods, ISAECI, H_Janin, uH_Janin, H_KyteDoolittle, uH_KyteDoolittle, F_Levitt, uF_Levitt, MSS_shape, u_MSS_shape, MSW, pepArc, pepcats, polarity, u_polarity, PPCALI, refractivity, u_refractivity, t_scale, TM_tend, u_TM_tend'\n",
    "pepdesc_HemoPI1nm.save_descriptor('./Descriptors/pep_descriptors_HemoPI1nm.csv', header=col_names1)"
   ]
  },
  {
   "cell_type": "code",
   "execution_count": 34,
   "metadata": {
    "collapsed": true
   },
   "outputs": [],
   "source": [
    "pepdesc_HemoPI1pv.load_scale('eisenberg')\n",
    "pepdesc_HemoPI1pv.calculate_global()  # calculate global Eisenberg hydrophobicity\n",
    "pepdesc_HemoPI1pv.calculate_moment(append=True)\n",
    "pepdesc_HemoPI1pv.load_scale('gravy')  # load GRAVY scale\n",
    "pepdesc_HemoPI1pv.calculate_global(append=True)  # calculate global GRAVY hydrophobicity\n",
    "pepdesc_HemoPI1pv.calculate_moment(append=True)  # calculate GRAVY hydrophobic moment\n",
    "pepdesc_HemoPI1pv.load_scale('z3')  # load old Z scale\n",
    "pepdesc_HemoPI1pv.calculate_autocorr(1, append=True)  # calculate global Z scale (=window1 autocorrelation)\n",
    "pepdesc_HemoPI1pv.load_scale('z5')  # load old Z scale\n",
    "pepdesc_HemoPI1pv.calculate_autocorr(1, append=True)  # calculate global Z scale (=window1 autocorrelation)\n",
    "pepdesc_HemoPI1pv.load_scale('AASI')\n",
    "pepdesc_HemoPI1pv.calculate_global(append=True)  # calculate global AASI index\n",
    "pepdesc_HemoPI1pv.calculate_moment(append=True)  # calculate AASI index moment\n",
    "pepdesc_HemoPI1pv.load_scale('ABHPRK')\n",
    "pepdesc_HemoPI1pv.calculate_global(append=True)  # calculate ABHPRK feature \n",
    "pepdesc_HemoPI1pv.load_scale('argos')\n",
    "pepdesc_HemoPI1pv.calculate_global(append=True)  # calculate global argos index\n",
    "pepdesc_HemoPI1pv.calculate_moment(append=True)  # calculate argos index moment\n",
    "pepdesc_HemoPI1pv.load_scale('bulkiness')\n",
    "pepdesc_HemoPI1pv.calculate_global(append=True)  # calculate global bulkiness index\n",
    "pepdesc_HemoPI1pv.calculate_moment(append=True)  # calculate bulkiness index moment\n",
    "pepdesc_HemoPI1pv.load_scale('charge_phys')\n",
    "pepdesc_HemoPI1pv.calculate_global(append=True)  # calculate global charge_phys index\n",
    "pepdesc_HemoPI1pv.load_scale('charge_acid')\n",
    "pepdesc_HemoPI1pv.calculate_global(append=True)  # calculate global charge_acid index\n",
    "pepdesc_HemoPI1pv.load_scale('Ez')\n",
    "pepdesc_HemoPI1pv.calculate_global(append=True)  # calculate global energies of insertion of amino acid side chains into lipid bilayers index\n",
    "pepdesc_HemoPI1pv.load_scale('flexibility')\n",
    "pepdesc_HemoPI1pv.calculate_global(append=True)  # calculate global flexibility scale\n",
    "pepdesc_HemoPI1pv.calculate_moment(append=True)  # calculate flexibility moment\n",
    "pepdesc_HemoPI1pv.load_scale('grantham')\n",
    "pepdesc_HemoPI1pv.calculate_global(append=True)  # calculate global amino acid side chain composition, polarity and molecular volume\n",
    "pepdesc_HemoPI1pv.load_scale('hopp-woods')\n",
    "pepdesc_HemoPI1pv.calculate_global(append=True)  # calculate global Hopp-Woods hydrophobicity scale\n",
    "pepdesc_HemoPI1pv.calculate_moment(append=True)  # calculate Hopp-Woods hydrophobicity moment\n",
    "pepdesc_HemoPI1pv.load_scale('ISAECI')\n",
    "pepdesc_HemoPI1pv.calculate_global(append=True) # calculate global ISAECI (Isotropic Surface Area (ISA) and Electronic Charge Index (ECI) of amino acid side chains) index\n",
    "pepdesc_HemoPI1pv.load_scale('janin')\n",
    "pepdesc_HemoPI1pv.calculate_global(append=True)  # calculate global Janin hydrophobicity scale\n",
    "pepdesc_HemoPI1pv.calculate_moment(append=True)  # calculate Janin hydrophobicity moment\n",
    "pepdesc_HemoPI1pv.load_scale('kytedoolittle')\n",
    "pepdesc_HemoPI1pv.calculate_global(append=True)  # calculate global Kyte & Doolittle hydrophobicity scale\n",
    "pepdesc_HemoPI1pv.calculate_moment(append=True)  # calculate Kyte & Doolittle hydrophobicity moment\n",
    "pepdesc_HemoPI1pv.load_scale('levitt_alpha')\n",
    "pepdesc_HemoPI1pv.calculate_global(append=True)  # calculate global Levitt alpha-helix propensity scale\n",
    "pepdesc_HemoPI1pv.calculate_moment(append=True)  # calculate Levitt alpha-helix propensity moment\n",
    "pepdesc_HemoPI1pv.load_scale('MSS')\n",
    "pepdesc_HemoPI1pv.calculate_global(append=True)  # calculate global MSS index, graph-theoretical index that reflects topological shape and size of amino acid side chains\n",
    "pepdesc_HemoPI1pv.calculate_moment(append=True)  # calculate MSS moment\n",
    "pepdesc_HemoPI1pv.load_scale('MSW')\n",
    "pepdesc_HemoPI1pv.calculate_global(append=True)  # calculate global MSW scale, Amino acid scale based on a PCA of the molecular surface based WHIM descriptor (MS-WHIM), extended to natural amino acids\n",
    "pepdesc_HemoPI1pv.load_scale('pepArc')\n",
    "pepdesc_HemoPI1pv.calculate_global(append=True) # calculate global pepArc, modlabs pharmacophoric feature scale, dimensions are: hydrophobicity, polarity, positive charge, negative charge, proline.\n",
    "pepdesc_HemoPI1pv.load_scale('pepcats')\n",
    "pepdesc_HemoPI1pv.calculate_global(append=True) # calculate global pepcats, modlabs pharmacophoric feature based PEPCATS scale\n",
    "pepdesc_HemoPI1pv.load_scale('polarity')\n",
    "pepdesc_HemoPI1pv.calculate_global(append=True)  # calculate global AA polarity \n",
    "pepdesc_HemoPI1pv.calculate_moment(append=True)  # calculate AA polarity moment\n",
    "pepdesc_HemoPI1pv.load_scale('PPCALI')\n",
    "pepdesc_HemoPI1pv.calculate_global(append=True)  # calculate global modlabs inhouse scale derived from a PCA of 143 amino acid property scales\n",
    "pepdesc_HemoPI1pv.load_scale('refractivity')\n",
    "pepdesc_HemoPI1pv.calculate_global(append=True) # calculate global relative AA refractivity\n",
    "pepdesc_HemoPI1pv.calculate_moment(append=True) # calculate relative AA refractivity moment\n",
    "pepdesc_HemoPI1pv.load_scale('t_scale')\n",
    "pepdesc_HemoPI1pv.calculate_global(append=True) # calculate global t scale, A PCA derived scale based on amino acid side chain properties calculated with 6 different probes of the GRID program\n",
    "pepdesc_HemoPI1pv.load_scale('TM_tend')\n",
    "pepdesc_HemoPI1pv.calculate_global(append=True) # calculate global Amino acid transmembrane propensity scale\n",
    "pepdesc_HemoPI1pv.calculate_moment(append=True) # calculate Amino acid transmembrane propensity scale moment\n",
    "\n",
    "\n",
    "col_names1 = 'ID,Sequence,H_Eisenberg,uH_Eisenberg,H_GRAVY,uH_GRAVY,Z3_1,Z3_2,Z3_3, Z5_1,Z5_2,Z5_3, Z5_4,Z5_5,S_AASI, uS_AASI, modlas_ABHPRK, H_argos, uH_argos, B_Builkiness, uB_Builkiness, charge_phys, charge_acid, Ez, flexibility, u_flexibility, Grantham, H_HoppWoods, uH-HoppWoods, ISAECI, H_Janin, uH_Janin, H_KyteDoolittle, uH_KyteDoolittle, F_Levitt, uF_Levitt, MSS_shape, u_MSS_shape, MSW, pepArc, pepcats, polarity, u_polarity, PPCALI, refractivity, u_refractivity, t_scale, TM_tend, u_TM_tend'\n",
    "pepdesc_HemoPI1pv.save_descriptor('./Descriptors/pep_descriptors_HemoPI1pv.csv', header=col_names1)"
   ]
  },
  {
   "cell_type": "code",
   "execution_count": 35,
   "metadata": {
    "collapsed": true
   },
   "outputs": [],
   "source": [
    "pepdesc_HemoPI1nv.load_scale('eisenberg')\n",
    "pepdesc_HemoPI1nv.calculate_global()  # calculate global Eisenberg hydrophobicity\n",
    "pepdesc_HemoPI1nv.calculate_moment(append=True)\n",
    "pepdesc_HemoPI1nv.load_scale('gravy')  # load GRAVY scale\n",
    "pepdesc_HemoPI1nv.calculate_global(append=True)  # calculate global GRAVY hydrophobicity\n",
    "pepdesc_HemoPI1nv.calculate_moment(append=True)  # calculate GRAVY hydrophobic moment\n",
    "pepdesc_HemoPI1nv.load_scale('z3')  # load old Z scale\n",
    "pepdesc_HemoPI1nv.calculate_autocorr(1, append=True)  # calculate global Z scale (=window1 autocorrelation)\n",
    "pepdesc_HemoPI1nv.load_scale('z5')  # load old Z scale\n",
    "pepdesc_HemoPI1nv.calculate_autocorr(1, append=True)  # calculate global Z scale (=window1 autocorrelation)\n",
    "pepdesc_HemoPI1nv.load_scale('AASI')\n",
    "pepdesc_HemoPI1nv.calculate_global(append=True)  # calculate global AASI index\n",
    "pepdesc_HemoPI1nv.calculate_moment(append=True)  # calculate AASI index moment\n",
    "pepdesc_HemoPI1nv.load_scale('ABHPRK')\n",
    "pepdesc_HemoPI1nv.calculate_global(append=True)  # calculate ABHPRK feature \n",
    "pepdesc_HemoPI1nv.load_scale('argos')\n",
    "pepdesc_HemoPI1nv.calculate_global(append=True)  # calculate global argos index\n",
    "pepdesc_HemoPI1nv.calculate_moment(append=True)  # calculate argos index moment\n",
    "pepdesc_HemoPI1nv.load_scale('bulkiness')\n",
    "pepdesc_HemoPI1nv.calculate_global(append=True)  # calculate global bulkiness index\n",
    "pepdesc_HemoPI1nv.calculate_moment(append=True)  # calculate bulkiness index moment\n",
    "pepdesc_HemoPI1nv.load_scale('charge_phys')\n",
    "pepdesc_HemoPI1nv.calculate_global(append=True)  # calculate global charge_phys index\n",
    "pepdesc_HemoPI1nv.load_scale('charge_acid')\n",
    "pepdesc_HemoPI1nv.calculate_global(append=True)  # calculate global charge_acid index\n",
    "pepdesc_HemoPI1nv.load_scale('Ez')\n",
    "pepdesc_HemoPI1nv.calculate_global(append=True)  # calculate global energies of insertion of amino acid side chains into lipid bilayers index\n",
    "pepdesc_HemoPI1nv.load_scale('flexibility')\n",
    "pepdesc_HemoPI1nv.calculate_global(append=True)  # calculate global flexibility scale\n",
    "pepdesc_HemoPI1nv.calculate_moment(append=True)  # calculate flexibility moment\n",
    "pepdesc_HemoPI1nv.load_scale('grantham')\n",
    "pepdesc_HemoPI1nv.calculate_global(append=True)  # calculate global amino acid side chain composition, polarity and molecular volume\n",
    "pepdesc_HemoPI1nv.load_scale('hopp-woods')\n",
    "pepdesc_HemoPI1nv.calculate_global(append=True)  # calculate global Hopp-Woods hydrophobicity scale\n",
    "pepdesc_HemoPI1nv.calculate_moment(append=True)  # calculate Hopp-Woods hydrophobicity moment\n",
    "pepdesc_HemoPI1nv.load_scale('ISAECI')\n",
    "pepdesc_HemoPI1nv.calculate_global(append=True) # calculate global ISAECI (Isotropic Surface Area (ISA) and Electronic Charge Index (ECI) of amino acid side chains) index\n",
    "pepdesc_HemoPI1nv.load_scale('janin')\n",
    "pepdesc_HemoPI1nv.calculate_global(append=True)  # calculate global Janin hydrophobicity scale\n",
    "pepdesc_HemoPI1nv.calculate_moment(append=True)  # calculate Janin hydrophobicity moment\n",
    "pepdesc_HemoPI1nv.load_scale('kytedoolittle')\n",
    "pepdesc_HemoPI1nv.calculate_global(append=True)  # calculate global Kyte & Doolittle hydrophobicity scale\n",
    "pepdesc_HemoPI1nv.calculate_moment(append=True)  # calculate Kyte & Doolittle hydrophobicity moment\n",
    "pepdesc_HemoPI1nv.load_scale('levitt_alpha')\n",
    "pepdesc_HemoPI1nv.calculate_global(append=True)  # calculate global Levitt alpha-helix propensity scale\n",
    "pepdesc_HemoPI1nv.calculate_moment(append=True)  # calculate Levitt alpha-helix propensity moment\n",
    "pepdesc_HemoPI1nv.load_scale('MSS')\n",
    "pepdesc_HemoPI1nv.calculate_global(append=True)  # calculate global MSS index, graph-theoretical index that reflects topological shape and size of amino acid side chains\n",
    "pepdesc_HemoPI1nv.calculate_moment(append=True)  # calculate MSS moment\n",
    "pepdesc_HemoPI1nv.load_scale('MSW')\n",
    "pepdesc_HemoPI1nv.calculate_global(append=True)  # calculate global MSW scale, Amino acid scale based on a PCA of the molecular surface based WHIM descriptor (MS-WHIM), extended to natural amino acids\n",
    "pepdesc_HemoPI1nv.load_scale('pepArc')\n",
    "pepdesc_HemoPI1nv.calculate_global(append=True) # calculate global pepArc, modlabs pharmacophoric feature scale, dimensions are: hydrophobicity, polarity, positive charge, negative charge, proline.\n",
    "pepdesc_HemoPI1nv.load_scale('pepcats')\n",
    "pepdesc_HemoPI1nv.calculate_global(append=True) # calculate global pepcats, modlabs pharmacophoric feature based PEPCATS scale\n",
    "pepdesc_HemoPI1nv.load_scale('polarity')\n",
    "pepdesc_HemoPI1nv.calculate_global(append=True)  # calculate global AA polarity \n",
    "pepdesc_HemoPI1nv.calculate_moment(append=True)  # calculate AA polarity moment\n",
    "pepdesc_HemoPI1nv.load_scale('PPCALI')\n",
    "pepdesc_HemoPI1nv.calculate_global(append=True)  # calculate global modlabs inhouse scale derived from a PCA of 143 amino acid property scales\n",
    "pepdesc_HemoPI1nv.load_scale('refractivity')\n",
    "pepdesc_HemoPI1nv.calculate_global(append=True) # calculate global relative AA refractivity\n",
    "pepdesc_HemoPI1nv.calculate_moment(append=True) # calculate relative AA refractivity moment\n",
    "pepdesc_HemoPI1nv.load_scale('t_scale')\n",
    "pepdesc_HemoPI1nv.calculate_global(append=True) # calculate global t scale, A PCA derived scale based on amino acid side chain properties calculated with 6 different probes of the GRID program\n",
    "pepdesc_HemoPI1nv.load_scale('TM_tend')\n",
    "pepdesc_HemoPI1nv.calculate_global(append=True) # calculate global Amino acid transmembrane propensity scale\n",
    "pepdesc_HemoPI1nv.calculate_moment(append=True) # calculate Amino acid transmembrane propensity scale moment\n",
    "\n",
    "\n",
    "col_names1 = 'ID,Sequence,H_Eisenberg,uH_Eisenberg,H_GRAVY,uH_GRAVY,Z3_1,Z3_2,Z3_3, Z5_1,Z5_2,Z5_3, Z5_4,Z5_5,S_AASI, uS_AASI, modlas_ABHPRK, H_argos, uH_argos, B_Builkiness, uB_Builkiness, charge_phys, charge_acid, Ez, flexibility, u_flexibility, Grantham, H_HoppWoods, uH-HoppWoods, ISAECI, H_Janin, uH_Janin, H_KyteDoolittle, uH_KyteDoolittle, F_Levitt, uF_Levitt, MSS_shape, u_MSS_shape, MSW, pepArc, pepcats, polarity, u_polarity, PPCALI, refractivity, u_refractivity, t_scale, TM_tend, u_TM_tend'\n",
    "pepdesc_HemoPI1nv.save_descriptor('./Descriptors/pep_descriptors_HemoPI1nv.csv', header=col_names1)"
   ]
  },
  {
   "cell_type": "markdown",
   "metadata": {},
   "source": [
    "HemoPI-2 dataset"
   ]
  },
  {
   "cell_type": "code",
   "execution_count": 36,
   "metadata": {
    "collapsed": true
   },
   "outputs": [],
   "source": [
    "pepdesc_HemoPI2pm.load_scale('eisenberg')\n",
    "pepdesc_HemoPI2pm.calculate_global()  # calculate global Eisenberg hydrophobicity\n",
    "pepdesc_HemoPI2pm.calculate_moment(append=True)\n",
    "pepdesc_HemoPI2pm.load_scale('gravy')  # load GRAVY scale\n",
    "pepdesc_HemoPI2pm.calculate_global(append=True)  # calculate global GRAVY hydrophobicity\n",
    "pepdesc_HemoPI2pm.calculate_moment(append=True)  # calculate GRAVY hydrophobic moment\n",
    "pepdesc_HemoPI2pm.load_scale('z3')  # load old Z scale\n",
    "pepdesc_HemoPI2pm.calculate_autocorr(1, append=True)  # calculate global Z scale (=window1 autocorrelation)\n",
    "pepdesc_HemoPI2pm.load_scale('z5')  # load old Z scale\n",
    "pepdesc_HemoPI2pm.calculate_autocorr(1, append=True)  # calculate global Z scale (=window1 autocorrelation)\n",
    "pepdesc_HemoPI2pm.load_scale('AASI')\n",
    "pepdesc_HemoPI2pm.calculate_global(append=True)  # calculate global AASI index\n",
    "pepdesc_HemoPI2pm.calculate_moment(append=True)  # calculate AASI index moment\n",
    "pepdesc_HemoPI2pm.load_scale('ABHPRK')\n",
    "pepdesc_HemoPI2pm.calculate_global(append=True)  # calculate ABHPRK feature \n",
    "pepdesc_HemoPI2pm.load_scale('argos')\n",
    "pepdesc_HemoPI2pm.calculate_global(append=True)  # calculate global argos index\n",
    "pepdesc_HemoPI2pm.calculate_moment(append=True)  # calculate argos index moment\n",
    "pepdesc_HemoPI2pm.load_scale('bulkiness')\n",
    "pepdesc_HemoPI2pm.calculate_global(append=True)  # calculate global bulkiness index\n",
    "pepdesc_HemoPI2pm.calculate_moment(append=True)  # calculate bulkiness index moment\n",
    "pepdesc_HemoPI2pm.load_scale('charge_phys')\n",
    "pepdesc_HemoPI2pm.calculate_global(append=True)  # calculate global charge_phys index\n",
    "pepdesc_HemoPI2pm.load_scale('charge_acid')\n",
    "pepdesc_HemoPI2pm.calculate_global(append=True)  # calculate global charge_acid index\n",
    "pepdesc_HemoPI2pm.load_scale('Ez')\n",
    "pepdesc_HemoPI2pm.calculate_global(append=True)  # calculate global energies of insertion of amino acid side chains into lipid bilayers index\n",
    "pepdesc_HemoPI2pm.load_scale('flexibility')\n",
    "pepdesc_HemoPI2pm.calculate_global(append=True)  # calculate global flexibility scale\n",
    "pepdesc_HemoPI2pm.calculate_moment(append=True)  # calculate flexibility moment\n",
    "pepdesc_HemoPI2pm.load_scale('grantham')\n",
    "pepdesc_HemoPI2pm.calculate_global(append=True)  # calculate global amino acid side chain composition, polarity and molecular volume\n",
    "pepdesc_HemoPI2pm.load_scale('hopp-woods')\n",
    "pepdesc_HemoPI2pm.calculate_global(append=True)  # calculate global Hopp-Woods hydrophobicity scale\n",
    "pepdesc_HemoPI2pm.calculate_moment(append=True)  # calculate Hopp-Woods hydrophobicity moment\n",
    "pepdesc_HemoPI2pm.load_scale('ISAECI')\n",
    "pepdesc_HemoPI2pm.calculate_global(append=True) # calculate global ISAECI (Isotropic Surface Area (ISA) and Electronic Charge Index (ECI) of amino acid side chains) index\n",
    "pepdesc_HemoPI2pm.load_scale('janin')\n",
    "pepdesc_HemoPI2pm.calculate_global(append=True)  # calculate global Janin hydrophobicity scale\n",
    "pepdesc_HemoPI2pm.calculate_moment(append=True)  # calculate Janin hydrophobicity moment\n",
    "pepdesc_HemoPI2pm.load_scale('kytedoolittle')\n",
    "pepdesc_HemoPI2pm.calculate_global(append=True)  # calculate global Kyte & Doolittle hydrophobicity scale\n",
    "pepdesc_HemoPI2pm.calculate_moment(append=True)  # calculate Kyte & Doolittle hydrophobicity moment\n",
    "pepdesc_HemoPI2pm.load_scale('levitt_alpha')\n",
    "pepdesc_HemoPI2pm.calculate_global(append=True)  # calculate global Levitt alpha-helix propensity scale\n",
    "pepdesc_HemoPI2pm.calculate_moment(append=True)  # calculate Levitt alpha-helix propensity moment\n",
    "pepdesc_HemoPI2pm.load_scale('MSS')\n",
    "pepdesc_HemoPI2pm.calculate_global(append=True)  # calculate global MSS index, graph-theoretical index that reflects topological shape and size of amino acid side chains\n",
    "pepdesc_HemoPI2pm.calculate_moment(append=True)  # calculate MSS moment\n",
    "pepdesc_HemoPI2pm.load_scale('MSW')\n",
    "pepdesc_HemoPI2pm.calculate_global(append=True)  # calculate global MSW scale, Amino acid scale based on a PCA of the molecular surface based WHIM descriptor (MS-WHIM), extended to natural amino acids\n",
    "pepdesc_HemoPI2pm.load_scale('pepArc')\n",
    "pepdesc_HemoPI2pm.calculate_global(append=True) # calculate global pepArc, modlabs pharmacophoric feature scale, dimensions are: hydrophobicity, polarity, positive charge, negative charge, proline.\n",
    "pepdesc_HemoPI2pm.load_scale('pepcats')\n",
    "pepdesc_HemoPI2pm.calculate_global(append=True) # calculate global pepcats, modlabs pharmacophoric feature based PEPCATS scale\n",
    "pepdesc_HemoPI2pm.load_scale('polarity')\n",
    "pepdesc_HemoPI2pm.calculate_global(append=True)  # calculate global AA polarity \n",
    "pepdesc_HemoPI2pm.calculate_moment(append=True)  # calculate AA polarity moment\n",
    "pepdesc_HemoPI2pm.load_scale('PPCALI')\n",
    "pepdesc_HemoPI2pm.calculate_global(append=True)  # calculate global modlabs inhouse scale derived from a PCA of 143 amino acid property scales\n",
    "pepdesc_HemoPI2pm.load_scale('refractivity')\n",
    "pepdesc_HemoPI2pm.calculate_global(append=True) # calculate global relative AA refractivity\n",
    "pepdesc_HemoPI2pm.calculate_moment(append=True) # calculate relative AA refractivity moment\n",
    "pepdesc_HemoPI2pm.load_scale('t_scale')\n",
    "pepdesc_HemoPI2pm.calculate_global(append=True) # calculate global t scale, A PCA derived scale based on amino acid side chain properties calculated with 6 different probes of the GRID program\n",
    "pepdesc_HemoPI2pm.load_scale('TM_tend')\n",
    "pepdesc_HemoPI2pm.calculate_global(append=True) # calculate global Amino acid transmembrane propensity scale\n",
    "pepdesc_HemoPI2pm.calculate_moment(append=True) # calculate Amino acid transmembrane propensity scale moment\n",
    "\n",
    "\n",
    "col_names1 = 'ID,Sequence,H_Eisenberg,uH_Eisenberg,H_GRAVY,uH_GRAVY,Z3_1,Z3_2,Z3_3, Z5_1,Z5_2,Z5_3, Z5_4,Z5_5,S_AASI, uS_AASI, modlas_ABHPRK, H_argos, uH_argos, B_Builkiness, uB_Builkiness, charge_phys, charge_acid, Ez, flexibility, u_flexibility, Grantham, H_HoppWoods, uH-HoppWoods, ISAECI, H_Janin, uH_Janin, H_KyteDoolittle, uH_KyteDoolittle, F_Levitt, uF_Levitt, MSS_shape, u_MSS_shape, MSW, pepArc, pepcats, polarity, u_polarity, PPCALI, refractivity, u_refractivity, t_scale, TM_tend, u_TM_tend'\n",
    "pepdesc_HemoPI2pm.save_descriptor('./Descriptors/pep_descriptors_HemoPI2pm.csv', header=col_names1)"
   ]
  },
  {
   "cell_type": "code",
   "execution_count": 37,
   "metadata": {
    "collapsed": true
   },
   "outputs": [],
   "source": [
    "pepdesc_HemoPI2nm.load_scale('eisenberg')\n",
    "pepdesc_HemoPI2nm.calculate_global()  # calculate global Eisenberg hydrophobicity\n",
    "pepdesc_HemoPI2nm.calculate_moment(append=True)\n",
    "pepdesc_HemoPI2nm.load_scale('gravy')  # load GRAVY scale\n",
    "pepdesc_HemoPI2nm.calculate_global(append=True)  # calculate global GRAVY hydrophobicity\n",
    "pepdesc_HemoPI2nm.calculate_moment(append=True)  # calculate GRAVY hydrophobic moment\n",
    "pepdesc_HemoPI2nm.load_scale('z3')  # load old Z scale\n",
    "pepdesc_HemoPI2nm.calculate_autocorr(1, append=True)  # calculate global Z scale (=window1 autocorrelation)\n",
    "pepdesc_HemoPI2nm.load_scale('z5')  # load old Z scale\n",
    "pepdesc_HemoPI2nm.calculate_autocorr(1, append=True)  # calculate global Z scale (=window1 autocorrelation)\n",
    "pepdesc_HemoPI2nm.load_scale('AASI')\n",
    "pepdesc_HemoPI2nm.calculate_global(append=True)  # calculate global AASI index\n",
    "pepdesc_HemoPI2nm.calculate_moment(append=True)  # calculate AASI index moment\n",
    "pepdesc_HemoPI2nm.load_scale('ABHPRK')\n",
    "pepdesc_HemoPI2nm.calculate_global(append=True)  # calculate ABHPRK feature \n",
    "pepdesc_HemoPI2nm.load_scale('argos')\n",
    "pepdesc_HemoPI2nm.calculate_global(append=True)  # calculate global argos index\n",
    "pepdesc_HemoPI2nm.calculate_moment(append=True)  # calculate argos index moment\n",
    "pepdesc_HemoPI2nm.load_scale('bulkiness')\n",
    "pepdesc_HemoPI2nm.calculate_global(append=True)  # calculate global bulkiness index\n",
    "pepdesc_HemoPI2nm.calculate_moment(append=True)  # calculate bulkiness index moment\n",
    "pepdesc_HemoPI2nm.load_scale('charge_phys')\n",
    "pepdesc_HemoPI2nm.calculate_global(append=True)  # calculate global charge_phys index\n",
    "pepdesc_HemoPI2nm.load_scale('charge_acid')\n",
    "pepdesc_HemoPI2nm.calculate_global(append=True)  # calculate global charge_acid index\n",
    "pepdesc_HemoPI2nm.load_scale('Ez')\n",
    "pepdesc_HemoPI2nm.calculate_global(append=True)  # calculate global energies of insertion of amino acid side chains into lipid bilayers index\n",
    "pepdesc_HemoPI2nm.load_scale('flexibility')\n",
    "pepdesc_HemoPI2nm.calculate_global(append=True)  # calculate global flexibility scale\n",
    "pepdesc_HemoPI2nm.calculate_moment(append=True)  # calculate flexibility moment\n",
    "pepdesc_HemoPI2nm.load_scale('grantham')\n",
    "pepdesc_HemoPI2nm.calculate_global(append=True)  # calculate global amino acid side chain composition, polarity and molecular volume\n",
    "pepdesc_HemoPI2nm.load_scale('hopp-woods')\n",
    "pepdesc_HemoPI2nm.calculate_global(append=True)  # calculate global Hopp-Woods hydrophobicity scale\n",
    "pepdesc_HemoPI2nm.calculate_moment(append=True)  # calculate Hopp-Woods hydrophobicity moment\n",
    "pepdesc_HemoPI2nm.load_scale('ISAECI')\n",
    "pepdesc_HemoPI2nm.calculate_global(append=True) # calculate global ISAECI (Isotropic Surface Area (ISA) and Electronic Charge Index (ECI) of amino acid side chains) index\n",
    "pepdesc_HemoPI2nm.load_scale('janin')\n",
    "pepdesc_HemoPI2nm.calculate_global(append=True)  # calculate global Janin hydrophobicity scale\n",
    "pepdesc_HemoPI2nm.calculate_moment(append=True)  # calculate Janin hydrophobicity moment\n",
    "pepdesc_HemoPI2nm.load_scale('kytedoolittle')\n",
    "pepdesc_HemoPI2nm.calculate_global(append=True)  # calculate global Kyte & Doolittle hydrophobicity scale\n",
    "pepdesc_HemoPI2nm.calculate_moment(append=True)  # calculate Kyte & Doolittle hydrophobicity moment\n",
    "pepdesc_HemoPI2nm.load_scale('levitt_alpha')\n",
    "pepdesc_HemoPI2nm.calculate_global(append=True)  # calculate global Levitt alpha-helix propensity scale\n",
    "pepdesc_HemoPI2nm.calculate_moment(append=True)  # calculate Levitt alpha-helix propensity moment\n",
    "pepdesc_HemoPI2nm.load_scale('MSS')\n",
    "pepdesc_HemoPI2nm.calculate_global(append=True)  # calculate global MSS index, graph-theoretical index that reflects topological shape and size of amino acid side chains\n",
    "pepdesc_HemoPI2nm.calculate_moment(append=True)  # calculate MSS moment\n",
    "pepdesc_HemoPI2nm.load_scale('MSW')\n",
    "pepdesc_HemoPI2nm.calculate_global(append=True)  # calculate global MSW scale, Amino acid scale based on a PCA of the molecular surface based WHIM descriptor (MS-WHIM), extended to natural amino acids\n",
    "pepdesc_HemoPI2nm.load_scale('pepArc')\n",
    "pepdesc_HemoPI2nm.calculate_global(append=True) # calculate global pepArc, modlabs pharmacophoric feature scale, dimensions are: hydrophobicity, polarity, positive charge, negative charge, proline.\n",
    "pepdesc_HemoPI2nm.load_scale('pepcats')\n",
    "pepdesc_HemoPI2nm.calculate_global(append=True) # calculate global pepcats, modlabs pharmacophoric feature based PEPCATS scale\n",
    "pepdesc_HemoPI2nm.load_scale('polarity')\n",
    "pepdesc_HemoPI2nm.calculate_global(append=True)  # calculate global AA polarity \n",
    "pepdesc_HemoPI2nm.calculate_moment(append=True)  # calculate AA polarity moment\n",
    "pepdesc_HemoPI2nm.load_scale('PPCALI')\n",
    "pepdesc_HemoPI2nm.calculate_global(append=True)  # calculate global modlabs inhouse scale derived from a PCA of 143 amino acid property scales\n",
    "pepdesc_HemoPI2nm.load_scale('refractivity')\n",
    "pepdesc_HemoPI2nm.calculate_global(append=True) # calculate global relative AA refractivity\n",
    "pepdesc_HemoPI2nm.calculate_moment(append=True) # calculate relative AA refractivity moment\n",
    "pepdesc_HemoPI2nm.load_scale('t_scale')\n",
    "pepdesc_HemoPI2nm.calculate_global(append=True) # calculate global t scale, A PCA derived scale based on amino acid side chain properties calculated with 6 different probes of the GRID program\n",
    "pepdesc_HemoPI2nm.load_scale('TM_tend')\n",
    "pepdesc_HemoPI2nm.calculate_global(append=True) # calculate global Amino acid transmembrane propensity scale\n",
    "pepdesc_HemoPI2nm.calculate_moment(append=True) # calculate Amino acid transmembrane propensity scale moment\n",
    "\n",
    "\n",
    "col_names1 = 'ID,Sequence,H_Eisenberg,uH_Eisenberg,H_GRAVY,uH_GRAVY,Z3_1,Z3_2,Z3_3, Z5_1,Z5_2,Z5_3, Z5_4,Z5_5,S_AASI, uS_AASI, modlas_ABHPRK, H_argos, uH_argos, B_Builkiness, uB_Builkiness, charge_phys, charge_acid, Ez, flexibility, u_flexibility, Grantham, H_HoppWoods, uH-HoppWoods, ISAECI, H_Janin, uH_Janin, H_KyteDoolittle, uH_KyteDoolittle, F_Levitt, uF_Levitt, MSS_shape, u_MSS_shape, MSW, pepArc, pepcats, polarity, u_polarity, PPCALI, refractivity, u_refractivity, t_scale, TM_tend, u_TM_tend'\n",
    "pepdesc_HemoPI2nm.save_descriptor('./Descriptors/pep_descriptors_HemoPI2nm.csv', header=col_names1)"
   ]
  },
  {
   "cell_type": "code",
   "execution_count": 38,
   "metadata": {
    "collapsed": true
   },
   "outputs": [],
   "source": [
    "pepdesc_HemoPI2pv.load_scale('eisenberg')\n",
    "pepdesc_HemoPI2pv.calculate_global()  # calculate global Eisenberg hydrophobicity\n",
    "pepdesc_HemoPI2pv.calculate_moment(append=True)\n",
    "pepdesc_HemoPI2pv.load_scale('gravy')  # load GRAVY scale\n",
    "pepdesc_HemoPI2pv.calculate_global(append=True)  # calculate global GRAVY hydrophobicity\n",
    "pepdesc_HemoPI2pv.calculate_moment(append=True)  # calculate GRAVY hydrophobic moment\n",
    "pepdesc_HemoPI2pv.load_scale('z3')  # load old Z scale\n",
    "pepdesc_HemoPI2pv.calculate_autocorr(1, append=True)  # calculate global Z scale (=window1 autocorrelation)\n",
    "pepdesc_HemoPI2pv.load_scale('z5')  # load old Z scale\n",
    "pepdesc_HemoPI2pv.calculate_autocorr(1, append=True)  # calculate global Z scale (=window1 autocorrelation)\n",
    "pepdesc_HemoPI2pv.load_scale('AASI')\n",
    "pepdesc_HemoPI2pv.calculate_global(append=True)  # calculate global AASI index\n",
    "pepdesc_HemoPI2pv.calculate_moment(append=True)  # calculate AASI index moment\n",
    "pepdesc_HemoPI2pv.load_scale('ABHPRK')\n",
    "pepdesc_HemoPI2pv.calculate_global(append=True)  # calculate ABHPRK feature \n",
    "pepdesc_HemoPI2pv.load_scale('argos')\n",
    "pepdesc_HemoPI2pv.calculate_global(append=True)  # calculate global argos index\n",
    "pepdesc_HemoPI2pv.calculate_moment(append=True)  # calculate argos index moment\n",
    "pepdesc_HemoPI2pv.load_scale('bulkiness')\n",
    "pepdesc_HemoPI2pv.calculate_global(append=True)  # calculate global bulkiness index\n",
    "pepdesc_HemoPI2pv.calculate_moment(append=True)  # calculate bulkiness index moment\n",
    "pepdesc_HemoPI2pv.load_scale('charge_phys')\n",
    "pepdesc_HemoPI2pv.calculate_global(append=True)  # calculate global charge_phys index\n",
    "pepdesc_HemoPI2pv.load_scale('charge_acid')\n",
    "pepdesc_HemoPI2pv.calculate_global(append=True)  # calculate global charge_acid index\n",
    "pepdesc_HemoPI2pv.load_scale('Ez')\n",
    "pepdesc_HemoPI2pv.calculate_global(append=True)  # calculate global energies of insertion of amino acid side chains into lipid bilayers index\n",
    "pepdesc_HemoPI2pv.load_scale('flexibility')\n",
    "pepdesc_HemoPI2pv.calculate_global(append=True)  # calculate global flexibility scale\n",
    "pepdesc_HemoPI2pv.calculate_moment(append=True)  # calculate flexibility moment\n",
    "pepdesc_HemoPI2pv.load_scale('grantham')\n",
    "pepdesc_HemoPI2pv.calculate_global(append=True)  # calculate global amino acid side chain composition, polarity and molecular volume\n",
    "pepdesc_HemoPI2pv.load_scale('hopp-woods')\n",
    "pepdesc_HemoPI2pv.calculate_global(append=True)  # calculate global Hopp-Woods hydrophobicity scale\n",
    "pepdesc_HemoPI2pv.calculate_moment(append=True)  # calculate Hopp-Woods hydrophobicity moment\n",
    "pepdesc_HemoPI2pv.load_scale('ISAECI')\n",
    "pepdesc_HemoPI2pv.calculate_global(append=True) # calculate global ISAECI (Isotropic Surface Area (ISA) and Electronic Charge Index (ECI) of amino acid side chains) index\n",
    "pepdesc_HemoPI2pv.load_scale('janin')\n",
    "pepdesc_HemoPI2pv.calculate_global(append=True)  # calculate global Janin hydrophobicity scale\n",
    "pepdesc_HemoPI2pv.calculate_moment(append=True)  # calculate Janin hydrophobicity moment\n",
    "pepdesc_HemoPI2pv.load_scale('kytedoolittle')\n",
    "pepdesc_HemoPI2pv.calculate_global(append=True)  # calculate global Kyte & Doolittle hydrophobicity scale\n",
    "pepdesc_HemoPI2pv.calculate_moment(append=True)  # calculate Kyte & Doolittle hydrophobicity moment\n",
    "pepdesc_HemoPI2pv.load_scale('levitt_alpha')\n",
    "pepdesc_HemoPI2pv.calculate_global(append=True)  # calculate global Levitt alpha-helix propensity scale\n",
    "pepdesc_HemoPI2pv.calculate_moment(append=True)  # calculate Levitt alpha-helix propensity moment\n",
    "pepdesc_HemoPI2pv.load_scale('MSS')\n",
    "pepdesc_HemoPI2pv.calculate_global(append=True)  # calculate global MSS index, graph-theoretical index that reflects topological shape and size of amino acid side chains\n",
    "pepdesc_HemoPI2pv.calculate_moment(append=True)  # calculate MSS moment\n",
    "pepdesc_HemoPI2pv.load_scale('MSW')\n",
    "pepdesc_HemoPI2pv.calculate_global(append=True)  # calculate global MSW scale, Amino acid scale based on a PCA of the molecular surface based WHIM descriptor (MS-WHIM), extended to natural amino acids\n",
    "pepdesc_HemoPI2pv.load_scale('pepArc')\n",
    "pepdesc_HemoPI2pv.calculate_global(append=True) # calculate global pepArc, modlabs pharmacophoric feature scale, dimensions are: hydrophobicity, polarity, positive charge, negative charge, proline.\n",
    "pepdesc_HemoPI2pv.load_scale('pepcats')\n",
    "pepdesc_HemoPI2pv.calculate_global(append=True) # calculate global pepcats, modlabs pharmacophoric feature based PEPCATS scale\n",
    "pepdesc_HemoPI2pv.load_scale('polarity')\n",
    "pepdesc_HemoPI2pv.calculate_global(append=True)  # calculate global AA polarity \n",
    "pepdesc_HemoPI2pv.calculate_moment(append=True)  # calculate AA polarity moment\n",
    "pepdesc_HemoPI2pv.load_scale('PPCALI')\n",
    "pepdesc_HemoPI2pv.calculate_global(append=True)  # calculate global modlabs inhouse scale derived from a PCA of 143 amino acid property scales\n",
    "pepdesc_HemoPI2pv.load_scale('refractivity')\n",
    "pepdesc_HemoPI2pv.calculate_global(append=True) # calculate global relative AA refractivity\n",
    "pepdesc_HemoPI2pv.calculate_moment(append=True) # calculate relative AA refractivity moment\n",
    "pepdesc_HemoPI2pv.load_scale('t_scale')\n",
    "pepdesc_HemoPI2pv.calculate_global(append=True) # calculate global t scale, A PCA derived scale based on amino acid side chain properties calculated with 6 different probes of the GRID program\n",
    "pepdesc_HemoPI2pv.load_scale('TM_tend')\n",
    "pepdesc_HemoPI2pv.calculate_global(append=True) # calculate global Amino acid transmembrane propensity scale\n",
    "pepdesc_HemoPI2pv.calculate_moment(append=True) # calculate Amino acid transmembrane propensity scale moment\n",
    "\n",
    "\n",
    "col_names1 = 'ID,Sequence,H_Eisenberg,uH_Eisenberg,H_GRAVY,uH_GRAVY,Z3_1,Z3_2,Z3_3, Z5_1,Z5_2,Z5_3, Z5_4,Z5_5,S_AASI, uS_AASI, modlas_ABHPRK, H_argos, uH_argos, B_Builkiness, uB_Builkiness, charge_phys, charge_acid, Ez, flexibility, u_flexibility, Grantham, H_HoppWoods, uH-HoppWoods, ISAECI, H_Janin, uH_Janin, H_KyteDoolittle, uH_KyteDoolittle, F_Levitt, uF_Levitt, MSS_shape, u_MSS_shape, MSW, pepArc, pepcats, polarity, u_polarity, PPCALI, refractivity, u_refractivity, t_scale, TM_tend, u_TM_tend'\n",
    "pepdesc_HemoPI2pv.save_descriptor('./Descriptors/pep_descriptors_HemoPI2pv.csv', header=col_names1)"
   ]
  },
  {
   "cell_type": "code",
   "execution_count": 39,
   "metadata": {
    "collapsed": true
   },
   "outputs": [],
   "source": [
    "pepdesc_HemoPI2nv.load_scale('eisenberg')\n",
    "pepdesc_HemoPI2nv.calculate_global()  # calculate global Eisenberg hydrophobicity\n",
    "pepdesc_HemoPI2nv.calculate_moment(append=True)\n",
    "pepdesc_HemoPI2nv.load_scale('gravy')  # load GRAVY scale\n",
    "pepdesc_HemoPI2nv.calculate_global(append=True)  # calculate global GRAVY hydrophobicity\n",
    "pepdesc_HemoPI2nv.calculate_moment(append=True)  # calculate GRAVY hydrophobic moment\n",
    "pepdesc_HemoPI2nv.load_scale('z3')  # load old Z scale\n",
    "pepdesc_HemoPI2nv.calculate_autocorr(1, append=True)  # calculate global Z scale (=window1 autocorrelation)\n",
    "pepdesc_HemoPI2nv.load_scale('z5')  # load old Z scale\n",
    "pepdesc_HemoPI2nv.calculate_autocorr(1, append=True)  # calculate global Z scale (=window1 autocorrelation)\n",
    "pepdesc_HemoPI2nv.load_scale('AASI')\n",
    "pepdesc_HemoPI2nv.calculate_global(append=True)  # calculate global AASI index\n",
    "pepdesc_HemoPI2nv.calculate_moment(append=True)  # calculate AASI index moment\n",
    "pepdesc_HemoPI2nv.load_scale('ABHPRK')\n",
    "pepdesc_HemoPI2nv.calculate_global(append=True)  # calculate ABHPRK feature \n",
    "pepdesc_HemoPI2nv.load_scale('argos')\n",
    "pepdesc_HemoPI2nv.calculate_global(append=True)  # calculate global argos index\n",
    "pepdesc_HemoPI2nv.calculate_moment(append=True)  # calculate argos index moment\n",
    "pepdesc_HemoPI2nv.load_scale('bulkiness')\n",
    "pepdesc_HemoPI2nv.calculate_global(append=True)  # calculate global bulkiness index\n",
    "pepdesc_HemoPI2nv.calculate_moment(append=True)  # calculate bulkiness index moment\n",
    "pepdesc_HemoPI2nv.load_scale('charge_phys')\n",
    "pepdesc_HemoPI2nv.calculate_global(append=True)  # calculate global charge_phys index\n",
    "pepdesc_HemoPI2nv.load_scale('charge_acid')\n",
    "pepdesc_HemoPI2nv.calculate_global(append=True)  # calculate global charge_acid index\n",
    "pepdesc_HemoPI2nv.load_scale('Ez')\n",
    "pepdesc_HemoPI2nv.calculate_global(append=True)  # calculate global energies of insertion of amino acid side chains into lipid bilayers index\n",
    "pepdesc_HemoPI2nv.load_scale('flexibility')\n",
    "pepdesc_HemoPI2nv.calculate_global(append=True)  # calculate global flexibility scale\n",
    "pepdesc_HemoPI2nv.calculate_moment(append=True)  # calculate flexibility moment\n",
    "pepdesc_HemoPI2nv.load_scale('grantham')\n",
    "pepdesc_HemoPI2nv.calculate_global(append=True)  # calculate global amino acid side chain composition, polarity and molecular volume\n",
    "pepdesc_HemoPI2nv.load_scale('hopp-woods')\n",
    "pepdesc_HemoPI2nv.calculate_global(append=True)  # calculate global Hopp-Woods hydrophobicity scale\n",
    "pepdesc_HemoPI2nv.calculate_moment(append=True)  # calculate Hopp-Woods hydrophobicity moment\n",
    "pepdesc_HemoPI2nv.load_scale('ISAECI')\n",
    "pepdesc_HemoPI2nv.calculate_global(append=True) # calculate global ISAECI (Isotropic Surface Area (ISA) and Electronic Charge Index (ECI) of amino acid side chains) index\n",
    "pepdesc_HemoPI2nv.load_scale('janin')\n",
    "pepdesc_HemoPI2nv.calculate_global(append=True)  # calculate global Janin hydrophobicity scale\n",
    "pepdesc_HemoPI2nv.calculate_moment(append=True)  # calculate Janin hydrophobicity moment\n",
    "pepdesc_HemoPI2nv.load_scale('kytedoolittle')\n",
    "pepdesc_HemoPI2nv.calculate_global(append=True)  # calculate global Kyte & Doolittle hydrophobicity scale\n",
    "pepdesc_HemoPI2nv.calculate_moment(append=True)  # calculate Kyte & Doolittle hydrophobicity moment\n",
    "pepdesc_HemoPI2nv.load_scale('levitt_alpha')\n",
    "pepdesc_HemoPI2nv.calculate_global(append=True)  # calculate global Levitt alpha-helix propensity scale\n",
    "pepdesc_HemoPI2nv.calculate_moment(append=True)  # calculate Levitt alpha-helix propensity moment\n",
    "pepdesc_HemoPI2nv.load_scale('MSS')\n",
    "pepdesc_HemoPI2nv.calculate_global(append=True)  # calculate global MSS index, graph-theoretical index that reflects topological shape and size of amino acid side chains\n",
    "pepdesc_HemoPI2nv.calculate_moment(append=True)  # calculate MSS moment\n",
    "pepdesc_HemoPI2nv.load_scale('MSW')\n",
    "pepdesc_HemoPI2nv.calculate_global(append=True)  # calculate global MSW scale, Amino acid scale based on a PCA of the molecular surface based WHIM descriptor (MS-WHIM), extended to natural amino acids\n",
    "pepdesc_HemoPI2nv.load_scale('pepArc')\n",
    "pepdesc_HemoPI2nv.calculate_global(append=True) # calculate global pepArc, modlabs pharmacophoric feature scale, dimensions are: hydrophobicity, polarity, positive charge, negative charge, proline.\n",
    "pepdesc_HemoPI2nv.load_scale('pepcats')\n",
    "pepdesc_HemoPI2nv.calculate_global(append=True) # calculate global pepcats, modlabs pharmacophoric feature based PEPCATS scale\n",
    "pepdesc_HemoPI2nv.load_scale('polarity')\n",
    "pepdesc_HemoPI2nv.calculate_global(append=True)  # calculate global AA polarity \n",
    "pepdesc_HemoPI2nv.calculate_moment(append=True)  # calculate AA polarity moment\n",
    "pepdesc_HemoPI2nv.load_scale('PPCALI')\n",
    "pepdesc_HemoPI2nv.calculate_global(append=True)  # calculate global modlabs inhouse scale derived from a PCA of 143 amino acid property scales\n",
    "pepdesc_HemoPI2nv.load_scale('refractivity')\n",
    "pepdesc_HemoPI2nv.calculate_global(append=True) # calculate global relative AA refractivity\n",
    "pepdesc_HemoPI2nv.calculate_moment(append=True) # calculate relative AA refractivity moment\n",
    "pepdesc_HemoPI2nv.load_scale('t_scale')\n",
    "pepdesc_HemoPI2nv.calculate_global(append=True) # calculate global t scale, A PCA derived scale based on amino acid side chain properties calculated with 6 different probes of the GRID program\n",
    "pepdesc_HemoPI2nv.load_scale('TM_tend')\n",
    "pepdesc_HemoPI2nv.calculate_global(append=True) # calculate global Amino acid transmembrane propensity scale\n",
    "pepdesc_HemoPI2nv.calculate_moment(append=True) # calculate Amino acid transmembrane propensity scale moment\n",
    "\n",
    "\n",
    "col_names1 = 'ID,Sequence,H_Eisenberg,uH_Eisenberg,H_GRAVY,uH_GRAVY,Z3_1,Z3_2,Z3_3, Z5_1,Z5_2,Z5_3, Z5_4,Z5_5,S_AASI, uS_AASI, modlas_ABHPRK, H_argos, uH_argos, B_Builkiness, uB_Builkiness, charge_phys, charge_acid, Ez, flexibility, u_flexibility, Grantham, H_HoppWoods, uH-HoppWoods, ISAECI, H_Janin, uH_Janin, H_KyteDoolittle, uH_KyteDoolittle, F_Levitt, uF_Levitt, MSS_shape, u_MSS_shape, MSW, pepArc, pepcats, polarity, u_polarity, PPCALI, refractivity, u_refractivity, t_scale, TM_tend, u_TM_tend'\n",
    "pepdesc_HemoPI2nv.save_descriptor('./Descriptors/pep_descriptors_HemoPI2nv.csv', header=col_names1)"
   ]
  },
  {
   "cell_type": "markdown",
   "metadata": {},
   "source": [
    "HemoPI-3 dataset"
   ]
  },
  {
   "cell_type": "code",
   "execution_count": 40,
   "metadata": {
    "collapsed": true
   },
   "outputs": [],
   "source": [
    "pepdesc_HemoPI3pm.load_scale('eisenberg')\n",
    "pepdesc_HemoPI3pm.calculate_global()  # calculate global Eisenberg hydrophobicity\n",
    "pepdesc_HemoPI3pm.calculate_moment(append=True)\n",
    "pepdesc_HemoPI3pm.load_scale('gravy')  # load GRAVY scale\n",
    "pepdesc_HemoPI3pm.calculate_global(append=True)  # calculate global GRAVY hydrophobicity\n",
    "pepdesc_HemoPI3pm.calculate_moment(append=True)  # calculate GRAVY hydrophobic moment\n",
    "pepdesc_HemoPI3pm.load_scale('z3')  # load old Z scale\n",
    "pepdesc_HemoPI3pm.calculate_autocorr(1, append=True)  # calculate global Z scale (=window1 autocorrelation)\n",
    "pepdesc_HemoPI3pm.load_scale('z5')  # load old Z scale\n",
    "pepdesc_HemoPI3pm.calculate_autocorr(1, append=True)  # calculate global Z scale (=window1 autocorrelation)\n",
    "pepdesc_HemoPI3pm.load_scale('AASI')\n",
    "pepdesc_HemoPI3pm.calculate_global(append=True)  # calculate global AASI index\n",
    "pepdesc_HemoPI3pm.calculate_moment(append=True)  # calculate AASI index moment\n",
    "pepdesc_HemoPI3pm.load_scale('ABHPRK')\n",
    "pepdesc_HemoPI3pm.calculate_global(append=True)  # calculate ABHPRK feature \n",
    "pepdesc_HemoPI3pm.load_scale('argos')\n",
    "pepdesc_HemoPI3pm.calculate_global(append=True)  # calculate global argos index\n",
    "pepdesc_HemoPI3pm.calculate_moment(append=True)  # calculate argos index moment\n",
    "pepdesc_HemoPI3pm.load_scale('bulkiness')\n",
    "pepdesc_HemoPI3pm.calculate_global(append=True)  # calculate global bulkiness index\n",
    "pepdesc_HemoPI3pm.calculate_moment(append=True)  # calculate bulkiness index moment\n",
    "pepdesc_HemoPI3pm.load_scale('charge_phys')\n",
    "pepdesc_HemoPI3pm.calculate_global(append=True)  # calculate global charge_phys index\n",
    "pepdesc_HemoPI3pm.load_scale('charge_acid')\n",
    "pepdesc_HemoPI3pm.calculate_global(append=True)  # calculate global charge_acid index\n",
    "pepdesc_HemoPI3pm.load_scale('Ez')\n",
    "pepdesc_HemoPI3pm.calculate_global(append=True)  # calculate global energies of insertion of amino acid side chains into lipid bilayers index\n",
    "pepdesc_HemoPI3pm.load_scale('flexibility')\n",
    "pepdesc_HemoPI3pm.calculate_global(append=True)  # calculate global flexibility scale\n",
    "pepdesc_HemoPI3pm.calculate_moment(append=True)  # calculate flexibility moment\n",
    "pepdesc_HemoPI3pm.load_scale('grantham')\n",
    "pepdesc_HemoPI3pm.calculate_global(append=True)  # calculate global amino acid side chain composition, polarity and molecular volume\n",
    "pepdesc_HemoPI3pm.load_scale('hopp-woods')\n",
    "pepdesc_HemoPI3pm.calculate_global(append=True)  # calculate global Hopp-Woods hydrophobicity scale\n",
    "pepdesc_HemoPI3pm.calculate_moment(append=True)  # calculate Hopp-Woods hydrophobicity moment\n",
    "pepdesc_HemoPI3pm.load_scale('ISAECI')\n",
    "pepdesc_HemoPI3pm.calculate_global(append=True) # calculate global ISAECI (Isotropic Surface Area (ISA) and Electronic Charge Index (ECI) of amino acid side chains) index\n",
    "pepdesc_HemoPI3pm.load_scale('janin')\n",
    "pepdesc_HemoPI3pm.calculate_global(append=True)  # calculate global Janin hydrophobicity scale\n",
    "pepdesc_HemoPI3pm.calculate_moment(append=True)  # calculate Janin hydrophobicity moment\n",
    "pepdesc_HemoPI3pm.load_scale('kytedoolittle')\n",
    "pepdesc_HemoPI3pm.calculate_global(append=True)  # calculate global Kyte & Doolittle hydrophobicity scale\n",
    "pepdesc_HemoPI3pm.calculate_moment(append=True)  # calculate Kyte & Doolittle hydrophobicity moment\n",
    "pepdesc_HemoPI3pm.load_scale('levitt_alpha')\n",
    "pepdesc_HemoPI3pm.calculate_global(append=True)  # calculate global Levitt alpha-helix propensity scale\n",
    "pepdesc_HemoPI3pm.calculate_moment(append=True)  # calculate Levitt alpha-helix propensity moment\n",
    "pepdesc_HemoPI3pm.load_scale('MSS')\n",
    "pepdesc_HemoPI3pm.calculate_global(append=True)  # calculate global MSS index, graph-theoretical index that reflects topological shape and size of amino acid side chains\n",
    "pepdesc_HemoPI3pm.calculate_moment(append=True)  # calculate MSS moment\n",
    "pepdesc_HemoPI3pm.load_scale('MSW')\n",
    "pepdesc_HemoPI3pm.calculate_global(append=True)  # calculate global MSW scale, Amino acid scale based on a PCA of the molecular surface based WHIM descriptor (MS-WHIM), extended to natural amino acids\n",
    "pepdesc_HemoPI3pm.load_scale('pepArc')\n",
    "pepdesc_HemoPI3pm.calculate_global(append=True) # calculate global pepArc, modlabs pharmacophoric feature scale, dimensions are: hydrophobicity, polarity, positive charge, negative charge, proline.\n",
    "pepdesc_HemoPI3pm.load_scale('pepcats')\n",
    "pepdesc_HemoPI3pm.calculate_global(append=True) # calculate global pepcats, modlabs pharmacophoric feature based PEPCATS scale\n",
    "pepdesc_HemoPI3pm.load_scale('polarity')\n",
    "pepdesc_HemoPI3pm.calculate_global(append=True)  # calculate global AA polarity \n",
    "pepdesc_HemoPI3pm.calculate_moment(append=True)  # calculate AA polarity moment\n",
    "pepdesc_HemoPI3pm.load_scale('PPCALI')\n",
    "pepdesc_HemoPI3pm.calculate_global(append=True)  # calculate global modlabs inhouse scale derived from a PCA of 143 amino acid property scales\n",
    "pepdesc_HemoPI3pm.load_scale('refractivity')\n",
    "pepdesc_HemoPI3pm.calculate_global(append=True) # calculate global relative AA refractivity\n",
    "pepdesc_HemoPI3pm.calculate_moment(append=True) # calculate relative AA refractivity moment\n",
    "pepdesc_HemoPI3pm.load_scale('t_scale')\n",
    "pepdesc_HemoPI3pm.calculate_global(append=True) # calculate global t scale, A PCA derived scale based on amino acid side chain properties calculated with 6 different probes of the GRID program\n",
    "pepdesc_HemoPI3pm.load_scale('TM_tend')\n",
    "pepdesc_HemoPI3pm.calculate_global(append=True) # calculate global Amino acid transmembrane propensity scale\n",
    "pepdesc_HemoPI3pm.calculate_moment(append=True) # calculate Amino acid transmembrane propensity scale moment\n",
    "\n",
    "\n",
    "col_names1 = 'ID,Sequence,H_Eisenberg,uH_Eisenberg,H_GRAVY,uH_GRAVY,Z3_1,Z3_2,Z3_3, Z5_1,Z5_2,Z5_3, Z5_4,Z5_5,S_AASI, uS_AASI, modlas_ABHPRK, H_argos, uH_argos, B_Builkiness, uB_Builkiness, charge_phys, charge_acid, Ez, flexibility, u_flexibility, Grantham, H_HoppWoods, uH-HoppWoods, ISAECI, H_Janin, uH_Janin, H_KyteDoolittle, uH_KyteDoolittle, F_Levitt, uF_Levitt, MSS_shape, u_MSS_shape, MSW, pepArc, pepcats, polarity, u_polarity, PPCALI, refractivity, u_refractivity, t_scale, TM_tend, u_TM_tend'\n",
    "pepdesc_HemoPI3pm.save_descriptor('./Descriptors/pep_descriptors_HemoPI3pm.csv', header=col_names1)"
   ]
  },
  {
   "cell_type": "code",
   "execution_count": 41,
   "metadata": {
    "collapsed": true
   },
   "outputs": [],
   "source": [
    "pepdesc_HemoPI3nm.load_scale('eisenberg')\n",
    "pepdesc_HemoPI3nm.calculate_global()  # calculate global Eisenberg hydrophobicity\n",
    "pepdesc_HemoPI3nm.calculate_moment(append=True)\n",
    "pepdesc_HemoPI3nm.load_scale('gravy')  # load GRAVY scale\n",
    "pepdesc_HemoPI3nm.calculate_global(append=True)  # calculate global GRAVY hydrophobicity\n",
    "pepdesc_HemoPI3nm.calculate_moment(append=True)  # calculate GRAVY hydrophobic moment\n",
    "pepdesc_HemoPI3nm.load_scale('z3')  # load old Z scale\n",
    "pepdesc_HemoPI3nm.calculate_autocorr(1, append=True)  # calculate global Z scale (=window1 autocorrelation)\n",
    "pepdesc_HemoPI3nm.load_scale('z5')  # load old Z scale\n",
    "pepdesc_HemoPI3nm.calculate_autocorr(1, append=True)  # calculate global Z scale (=window1 autocorrelation)\n",
    "pepdesc_HemoPI3nm.load_scale('AASI')\n",
    "pepdesc_HemoPI3nm.calculate_global(append=True)  # calculate global AASI index\n",
    "pepdesc_HemoPI3nm.calculate_moment(append=True)  # calculate AASI index moment\n",
    "pepdesc_HemoPI3nm.load_scale('ABHPRK')\n",
    "pepdesc_HemoPI3nm.calculate_global(append=True)  # calculate ABHPRK feature \n",
    "pepdesc_HemoPI3nm.load_scale('argos')\n",
    "pepdesc_HemoPI3nm.calculate_global(append=True)  # calculate global argos index\n",
    "pepdesc_HemoPI3nm.calculate_moment(append=True)  # calculate argos index moment\n",
    "pepdesc_HemoPI3nm.load_scale('bulkiness')\n",
    "pepdesc_HemoPI3nm.calculate_global(append=True)  # calculate global bulkiness index\n",
    "pepdesc_HemoPI3nm.calculate_moment(append=True)  # calculate bulkiness index moment\n",
    "pepdesc_HemoPI3nm.load_scale('charge_phys')\n",
    "pepdesc_HemoPI3nm.calculate_global(append=True)  # calculate global charge_phys index\n",
    "pepdesc_HemoPI3nm.load_scale('charge_acid')\n",
    "pepdesc_HemoPI3nm.calculate_global(append=True)  # calculate global charge_acid index\n",
    "pepdesc_HemoPI3nm.load_scale('Ez')\n",
    "pepdesc_HemoPI3nm.calculate_global(append=True)  # calculate global energies of insertion of amino acid side chains into lipid bilayers index\n",
    "pepdesc_HemoPI3nm.load_scale('flexibility')\n",
    "pepdesc_HemoPI3nm.calculate_global(append=True)  # calculate global flexibility scale\n",
    "pepdesc_HemoPI3nm.calculate_moment(append=True)  # calculate flexibility moment\n",
    "pepdesc_HemoPI3nm.load_scale('grantham')\n",
    "pepdesc_HemoPI3nm.calculate_global(append=True)  # calculate global amino acid side chain composition, polarity and molecular volume\n",
    "pepdesc_HemoPI3nm.load_scale('hopp-woods')\n",
    "pepdesc_HemoPI3nm.calculate_global(append=True)  # calculate global Hopp-Woods hydrophobicity scale\n",
    "pepdesc_HemoPI3nm.calculate_moment(append=True)  # calculate Hopp-Woods hydrophobicity moment\n",
    "pepdesc_HemoPI3nm.load_scale('ISAECI')\n",
    "pepdesc_HemoPI3nm.calculate_global(append=True) # calculate global ISAECI (Isotropic Surface Area (ISA) and Electronic Charge Index (ECI) of amino acid side chains) index\n",
    "pepdesc_HemoPI3nm.load_scale('janin')\n",
    "pepdesc_HemoPI3nm.calculate_global(append=True)  # calculate global Janin hydrophobicity scale\n",
    "pepdesc_HemoPI3nm.calculate_moment(append=True)  # calculate Janin hydrophobicity moment\n",
    "pepdesc_HemoPI3nm.load_scale('kytedoolittle')\n",
    "pepdesc_HemoPI3nm.calculate_global(append=True)  # calculate global Kyte & Doolittle hydrophobicity scale\n",
    "pepdesc_HemoPI3nm.calculate_moment(append=True)  # calculate Kyte & Doolittle hydrophobicity moment\n",
    "pepdesc_HemoPI3nm.load_scale('levitt_alpha')\n",
    "pepdesc_HemoPI3nm.calculate_global(append=True)  # calculate global Levitt alpha-helix propensity scale\n",
    "pepdesc_HemoPI3nm.calculate_moment(append=True)  # calculate Levitt alpha-helix propensity moment\n",
    "pepdesc_HemoPI3nm.load_scale('MSS')\n",
    "pepdesc_HemoPI3nm.calculate_global(append=True)  # calculate global MSS index, graph-theoretical index that reflects topological shape and size of amino acid side chains\n",
    "pepdesc_HemoPI3nm.calculate_moment(append=True)  # calculate MSS moment\n",
    "pepdesc_HemoPI3nm.load_scale('MSW')\n",
    "pepdesc_HemoPI3nm.calculate_global(append=True)  # calculate global MSW scale, Amino acid scale based on a PCA of the molecular surface based WHIM descriptor (MS-WHIM), extended to natural amino acids\n",
    "pepdesc_HemoPI3nm.load_scale('pepArc')\n",
    "pepdesc_HemoPI3nm.calculate_global(append=True) # calculate global pepArc, modlabs pharmacophoric feature scale, dimensions are: hydrophobicity, polarity, positive charge, negative charge, proline.\n",
    "pepdesc_HemoPI3nm.load_scale('pepcats')\n",
    "pepdesc_HemoPI3nm.calculate_global(append=True) # calculate global pepcats, modlabs pharmacophoric feature based PEPCATS scale\n",
    "pepdesc_HemoPI3nm.load_scale('polarity')\n",
    "pepdesc_HemoPI3nm.calculate_global(append=True)  # calculate global AA polarity \n",
    "pepdesc_HemoPI3nm.calculate_moment(append=True)  # calculate AA polarity moment\n",
    "pepdesc_HemoPI3nm.load_scale('PPCALI')\n",
    "pepdesc_HemoPI3nm.calculate_global(append=True)  # calculate global modlabs inhouse scale derived from a PCA of 143 amino acid property scales\n",
    "pepdesc_HemoPI3nm.load_scale('refractivity')\n",
    "pepdesc_HemoPI3nm.calculate_global(append=True) # calculate global relative AA refractivity\n",
    "pepdesc_HemoPI3nm.calculate_moment(append=True) # calculate relative AA refractivity moment\n",
    "pepdesc_HemoPI3nm.load_scale('t_scale')\n",
    "pepdesc_HemoPI3nm.calculate_global(append=True) # calculate global t scale, A PCA derived scale based on amino acid side chain properties calculated with 6 different probes of the GRID program\n",
    "pepdesc_HemoPI3nm.load_scale('TM_tend')\n",
    "pepdesc_HemoPI3nm.calculate_global(append=True) # calculate global Amino acid transmembrane propensity scale\n",
    "pepdesc_HemoPI3nm.calculate_moment(append=True) # calculate Amino acid transmembrane propensity scale moment\n",
    "\n",
    "\n",
    "col_names1 = 'ID,Sequence,H_Eisenberg,uH_Eisenberg,H_GRAVY,uH_GRAVY,Z3_1,Z3_2,Z3_3, Z5_1,Z5_2,Z5_3, Z5_4,Z5_5,S_AASI, uS_AASI, modlas_ABHPRK, H_argos, uH_argos, B_Builkiness, uB_Builkiness, charge_phys, charge_acid, Ez, flexibility, u_flexibility, Grantham, H_HoppWoods, uH-HoppWoods, ISAECI, H_Janin, uH_Janin, H_KyteDoolittle, uH_KyteDoolittle, F_Levitt, uF_Levitt, MSS_shape, u_MSS_shape, MSW, pepArc, pepcats, polarity, u_polarity, PPCALI, refractivity, u_refractivity, t_scale, TM_tend, u_TM_tend'\n",
    "pepdesc_HemoPI3nm.save_descriptor('./Descriptors/pep_descriptors_HemoPI3nm.csv', header=col_names1)"
   ]
  },
  {
   "cell_type": "code",
   "execution_count": 42,
   "metadata": {
    "collapsed": true
   },
   "outputs": [],
   "source": [
    "pepdesc_HemoPI3pv.load_scale('eisenberg')\n",
    "pepdesc_HemoPI3pv.calculate_global()  # calculate global Eisenberg hydrophobicity\n",
    "pepdesc_HemoPI3pv.calculate_moment(append=True)\n",
    "pepdesc_HemoPI3pv.load_scale('gravy')  # load GRAVY scale\n",
    "pepdesc_HemoPI3pv.calculate_global(append=True)  # calculate global GRAVY hydrophobicity\n",
    "pepdesc_HemoPI3pv.calculate_moment(append=True)  # calculate GRAVY hydrophobic moment\n",
    "pepdesc_HemoPI3pv.load_scale('z3')  # load old Z scale\n",
    "pepdesc_HemoPI3pv.calculate_autocorr(1, append=True)  # calculate global Z scale (=window1 autocorrelation)\n",
    "pepdesc_HemoPI3pv.load_scale('z5')  # load old Z scale\n",
    "pepdesc_HemoPI3pv.calculate_autocorr(1, append=True)  # calculate global Z scale (=window1 autocorrelation)\n",
    "pepdesc_HemoPI3pv.load_scale('AASI')\n",
    "pepdesc_HemoPI3pv.calculate_global(append=True)  # calculate global AASI index\n",
    "pepdesc_HemoPI3pv.calculate_moment(append=True)  # calculate AASI index moment\n",
    "pepdesc_HemoPI3pv.load_scale('ABHPRK')\n",
    "pepdesc_HemoPI3pv.calculate_global(append=True)  # calculate ABHPRK feature \n",
    "pepdesc_HemoPI3pv.load_scale('argos')\n",
    "pepdesc_HemoPI3pv.calculate_global(append=True)  # calculate global argos index\n",
    "pepdesc_HemoPI3pv.calculate_moment(append=True)  # calculate argos index moment\n",
    "pepdesc_HemoPI3pv.load_scale('bulkiness')\n",
    "pepdesc_HemoPI3pv.calculate_global(append=True)  # calculate global bulkiness index\n",
    "pepdesc_HemoPI3pv.calculate_moment(append=True)  # calculate bulkiness index moment\n",
    "pepdesc_HemoPI3pv.load_scale('charge_phys')\n",
    "pepdesc_HemoPI3pv.calculate_global(append=True)  # calculate global charge_phys index\n",
    "pepdesc_HemoPI3pv.load_scale('charge_acid')\n",
    "pepdesc_HemoPI3pv.calculate_global(append=True)  # calculate global charge_acid index\n",
    "pepdesc_HemoPI3pv.load_scale('Ez')\n",
    "pepdesc_HemoPI3pv.calculate_global(append=True)  # calculate global energies of insertion of amino acid side chains into lipid bilayers index\n",
    "pepdesc_HemoPI3pv.load_scale('flexibility')\n",
    "pepdesc_HemoPI3pv.calculate_global(append=True)  # calculate global flexibility scale\n",
    "pepdesc_HemoPI3pv.calculate_moment(append=True)  # calculate flexibility moment\n",
    "pepdesc_HemoPI3pv.load_scale('grantham')\n",
    "pepdesc_HemoPI3pv.calculate_global(append=True)  # calculate global amino acid side chain composition, polarity and molecular volume\n",
    "pepdesc_HemoPI3pv.load_scale('hopp-woods')\n",
    "pepdesc_HemoPI3pv.calculate_global(append=True)  # calculate global Hopp-Woods hydrophobicity scale\n",
    "pepdesc_HemoPI3pv.calculate_moment(append=True)  # calculate Hopp-Woods hydrophobicity moment\n",
    "pepdesc_HemoPI3pv.load_scale('ISAECI')\n",
    "pepdesc_HemoPI3pv.calculate_global(append=True) # calculate global ISAECI (Isotropic Surface Area (ISA) and Electronic Charge Index (ECI) of amino acid side chains) index\n",
    "pepdesc_HemoPI3pv.load_scale('janin')\n",
    "pepdesc_HemoPI3pv.calculate_global(append=True)  # calculate global Janin hydrophobicity scale\n",
    "pepdesc_HemoPI3pv.calculate_moment(append=True)  # calculate Janin hydrophobicity moment\n",
    "pepdesc_HemoPI3pv.load_scale('kytedoolittle')\n",
    "pepdesc_HemoPI3pv.calculate_global(append=True)  # calculate global Kyte & Doolittle hydrophobicity scale\n",
    "pepdesc_HemoPI3pv.calculate_moment(append=True)  # calculate Kyte & Doolittle hydrophobicity moment\n",
    "pepdesc_HemoPI3pv.load_scale('levitt_alpha')\n",
    "pepdesc_HemoPI3pv.calculate_global(append=True)  # calculate global Levitt alpha-helix propensity scale\n",
    "pepdesc_HemoPI3pv.calculate_moment(append=True)  # calculate Levitt alpha-helix propensity moment\n",
    "pepdesc_HemoPI3pv.load_scale('MSS')\n",
    "pepdesc_HemoPI3pv.calculate_global(append=True)  # calculate global MSS index, graph-theoretical index that reflects topological shape and size of amino acid side chains\n",
    "pepdesc_HemoPI3pv.calculate_moment(append=True)  # calculate MSS moment\n",
    "pepdesc_HemoPI3pv.load_scale('MSW')\n",
    "pepdesc_HemoPI3pv.calculate_global(append=True)  # calculate global MSW scale, Amino acid scale based on a PCA of the molecular surface based WHIM descriptor (MS-WHIM), extended to natural amino acids\n",
    "pepdesc_HemoPI3pv.load_scale('pepArc')\n",
    "pepdesc_HemoPI3pv.calculate_global(append=True) # calculate global pepArc, modlabs pharmacophoric feature scale, dimensions are: hydrophobicity, polarity, positive charge, negative charge, proline.\n",
    "pepdesc_HemoPI3pv.load_scale('pepcats')\n",
    "pepdesc_HemoPI3pv.calculate_global(append=True) # calculate global pepcats, modlabs pharmacophoric feature based PEPCATS scale\n",
    "pepdesc_HemoPI3pv.load_scale('polarity')\n",
    "pepdesc_HemoPI3pv.calculate_global(append=True)  # calculate global AA polarity \n",
    "pepdesc_HemoPI3pv.calculate_moment(append=True)  # calculate AA polarity moment\n",
    "pepdesc_HemoPI3pv.load_scale('PPCALI')\n",
    "pepdesc_HemoPI3pv.calculate_global(append=True)  # calculate global modlabs inhouse scale derived from a PCA of 143 amino acid property scales\n",
    "pepdesc_HemoPI3pv.load_scale('refractivity')\n",
    "pepdesc_HemoPI3pv.calculate_global(append=True) # calculate global relative AA refractivity\n",
    "pepdesc_HemoPI3pv.calculate_moment(append=True) # calculate relative AA refractivity moment\n",
    "pepdesc_HemoPI3pv.load_scale('t_scale')\n",
    "pepdesc_HemoPI3pv.calculate_global(append=True) # calculate global t scale, A PCA derived scale based on amino acid side chain properties calculated with 6 different probes of the GRID program\n",
    "pepdesc_HemoPI3pv.load_scale('TM_tend')\n",
    "pepdesc_HemoPI3pv.calculate_global(append=True) # calculate global Amino acid transmembrane propensity scale\n",
    "pepdesc_HemoPI3pv.calculate_moment(append=True) # calculate Amino acid transmembrane propensity scale moment\n",
    "\n",
    "\n",
    "col_names1 = 'ID,Sequence,H_Eisenberg,uH_Eisenberg,H_GRAVY,uH_GRAVY,Z3_1,Z3_2,Z3_3, Z5_1,Z5_2,Z5_3, Z5_4,Z5_5,S_AASI, uS_AASI, modlas_ABHPRK, H_argos, uH_argos, B_Builkiness, uB_Builkiness, charge_phys, charge_acid, Ez, flexibility, u_flexibility, Grantham, H_HoppWoods, uH-HoppWoods, ISAECI, H_Janin, uH_Janin, H_KyteDoolittle, uH_KyteDoolittle, F_Levitt, uF_Levitt, MSS_shape, u_MSS_shape, MSW, pepArc, pepcats, polarity, u_polarity, PPCALI, refractivity, u_refractivity, t_scale, TM_tend, u_TM_tend'\n",
    "pepdesc_HemoPI3pv.save_descriptor('./Descriptors/pep_descriptors_HemoPI3pv.csv', header=col_names1)"
   ]
  },
  {
   "cell_type": "code",
   "execution_count": 43,
   "metadata": {
    "collapsed": true
   },
   "outputs": [],
   "source": [
    "pepdesc_HemoPI3nv.load_scale('eisenberg')\n",
    "pepdesc_HemoPI3nv.calculate_global()  # calculate global Eisenberg hydrophobicity\n",
    "pepdesc_HemoPI3nv.calculate_moment(append=True)\n",
    "pepdesc_HemoPI3nv.load_scale('gravy')  # load GRAVY scale\n",
    "pepdesc_HemoPI3nv.calculate_global(append=True)  # calculate global GRAVY hydrophobicity\n",
    "pepdesc_HemoPI3nv.calculate_moment(append=True)  # calculate GRAVY hydrophobic moment\n",
    "pepdesc_HemoPI3nv.load_scale('z3')  # load old Z scale\n",
    "pepdesc_HemoPI3nv.calculate_autocorr(1, append=True)  # calculate global Z scale (=window1 autocorrelation)\n",
    "pepdesc_HemoPI3nv.load_scale('z5')  # load old Z scale\n",
    "pepdesc_HemoPI3nv.calculate_autocorr(1, append=True)  # calculate global Z scale (=window1 autocorrelation)\n",
    "pepdesc_HemoPI3nv.load_scale('AASI')\n",
    "pepdesc_HemoPI3nv.calculate_global(append=True)  # calculate global AASI index\n",
    "pepdesc_HemoPI3nv.calculate_moment(append=True)  # calculate AASI index moment\n",
    "pepdesc_HemoPI3nv.load_scale('ABHPRK')\n",
    "pepdesc_HemoPI3nv.calculate_global(append=True)  # calculate ABHPRK feature \n",
    "pepdesc_HemoPI3nv.load_scale('argos')\n",
    "pepdesc_HemoPI3nv.calculate_global(append=True)  # calculate global argos index\n",
    "pepdesc_HemoPI3nv.calculate_moment(append=True)  # calculate argos index moment\n",
    "pepdesc_HemoPI3nv.load_scale('bulkiness')\n",
    "pepdesc_HemoPI3nv.calculate_global(append=True)  # calculate global bulkiness index\n",
    "pepdesc_HemoPI3nv.calculate_moment(append=True)  # calculate bulkiness index moment\n",
    "pepdesc_HemoPI3nv.load_scale('charge_phys')\n",
    "pepdesc_HemoPI3nv.calculate_global(append=True)  # calculate global charge_phys index\n",
    "pepdesc_HemoPI3nv.load_scale('charge_acid')\n",
    "pepdesc_HemoPI3nv.calculate_global(append=True)  # calculate global charge_acid index\n",
    "pepdesc_HemoPI3nv.load_scale('Ez')\n",
    "pepdesc_HemoPI3nv.calculate_global(append=True)  # calculate global energies of insertion of amino acid side chains into lipid bilayers index\n",
    "pepdesc_HemoPI3nv.load_scale('flexibility')\n",
    "pepdesc_HemoPI3nv.calculate_global(append=True)  # calculate global flexibility scale\n",
    "pepdesc_HemoPI3nv.calculate_moment(append=True)  # calculate flexibility moment\n",
    "pepdesc_HemoPI3nv.load_scale('grantham')\n",
    "pepdesc_HemoPI3nv.calculate_global(append=True)  # calculate global amino acid side chain composition, polarity and molecular volume\n",
    "pepdesc_HemoPI3nv.load_scale('hopp-woods')\n",
    "pepdesc_HemoPI3nv.calculate_global(append=True)  # calculate global Hopp-Woods hydrophobicity scale\n",
    "pepdesc_HemoPI3nv.calculate_moment(append=True)  # calculate Hopp-Woods hydrophobicity moment\n",
    "pepdesc_HemoPI3nv.load_scale('ISAECI')\n",
    "pepdesc_HemoPI3nv.calculate_global(append=True) # calculate global ISAECI (Isotropic Surface Area (ISA) and Electronic Charge Index (ECI) of amino acid side chains) index\n",
    "pepdesc_HemoPI3nv.load_scale('janin')\n",
    "pepdesc_HemoPI3nv.calculate_global(append=True)  # calculate global Janin hydrophobicity scale\n",
    "pepdesc_HemoPI3nv.calculate_moment(append=True)  # calculate Janin hydrophobicity moment\n",
    "pepdesc_HemoPI3nv.load_scale('kytedoolittle')\n",
    "pepdesc_HemoPI3nv.calculate_global(append=True)  # calculate global Kyte & Doolittle hydrophobicity scale\n",
    "pepdesc_HemoPI3nv.calculate_moment(append=True)  # calculate Kyte & Doolittle hydrophobicity moment\n",
    "pepdesc_HemoPI3nv.load_scale('levitt_alpha')\n",
    "pepdesc_HemoPI3nv.calculate_global(append=True)  # calculate global Levitt alpha-helix propensity scale\n",
    "pepdesc_HemoPI3nv.calculate_moment(append=True)  # calculate Levitt alpha-helix propensity moment\n",
    "pepdesc_HemoPI3nv.load_scale('MSS')\n",
    "pepdesc_HemoPI3nv.calculate_global(append=True)  # calculate global MSS index, graph-theoretical index that reflects topological shape and size of amino acid side chains\n",
    "pepdesc_HemoPI3nv.calculate_moment(append=True)  # calculate MSS moment\n",
    "pepdesc_HemoPI3nv.load_scale('MSW')\n",
    "pepdesc_HemoPI3nv.calculate_global(append=True)  # calculate global MSW scale, Amino acid scale based on a PCA of the molecular surface based WHIM descriptor (MS-WHIM), extended to natural amino acids\n",
    "pepdesc_HemoPI3nv.load_scale('pepArc')\n",
    "pepdesc_HemoPI3nv.calculate_global(append=True) # calculate global pepArc, modlabs pharmacophoric feature scale, dimensions are: hydrophobicity, polarity, positive charge, negative charge, proline.\n",
    "pepdesc_HemoPI3nv.load_scale('pepcats')\n",
    "pepdesc_HemoPI3nv.calculate_global(append=True) # calculate global pepcats, modlabs pharmacophoric feature based PEPCATS scale\n",
    "pepdesc_HemoPI3nv.load_scale('polarity')\n",
    "pepdesc_HemoPI3nv.calculate_global(append=True)  # calculate global AA polarity \n",
    "pepdesc_HemoPI3nv.calculate_moment(append=True)  # calculate AA polarity moment\n",
    "pepdesc_HemoPI3nv.load_scale('PPCALI')\n",
    "pepdesc_HemoPI3nv.calculate_global(append=True)  # calculate global modlabs inhouse scale derived from a PCA of 143 amino acid property scales\n",
    "pepdesc_HemoPI3nv.load_scale('refractivity')\n",
    "pepdesc_HemoPI3nv.calculate_global(append=True) # calculate global relative AA refractivity\n",
    "pepdesc_HemoPI3nv.calculate_moment(append=True) # calculate relative AA refractivity moment\n",
    "pepdesc_HemoPI3nv.load_scale('t_scale')\n",
    "pepdesc_HemoPI3nv.calculate_global(append=True) # calculate global t scale, A PCA derived scale based on amino acid side chain properties calculated with 6 different probes of the GRID program\n",
    "pepdesc_HemoPI3nv.load_scale('TM_tend')\n",
    "pepdesc_HemoPI3nv.calculate_global(append=True) # calculate global Amino acid transmembrane propensity scale\n",
    "pepdesc_HemoPI3nv.calculate_moment(append=True) # calculate Amino acid transmembrane propensity scale moment\n",
    "\n",
    "\n",
    "col_names1 = 'ID,Sequence,H_Eisenberg,uH_Eisenberg,H_GRAVY,uH_GRAVY,Z3_1,Z3_2,Z3_3, Z5_1,Z5_2,Z5_3, Z5_4,Z5_5,S_AASI, uS_AASI, modlas_ABHPRK, H_argos, uH_argos, B_Builkiness, uB_Builkiness, charge_phys, charge_acid, Ez, flexibility, u_flexibility, Grantham, H_HoppWoods, uH-HoppWoods, ISAECI, H_Janin, uH_Janin, H_KyteDoolittle, uH_KyteDoolittle, F_Levitt, uF_Levitt, MSS_shape, u_MSS_shape, MSW, pepArc, pepcats, polarity, u_polarity, PPCALI, refractivity, u_refractivity, t_scale, TM_tend, u_TM_tend'\n",
    "pepdesc_HemoPI3nv.save_descriptor('./Descriptors/pep_descriptors_HemoPI3nv.csv', header=col_names1)"
   ]
  },
  {
   "cell_type": "markdown",
   "metadata": {},
   "source": [
    "#### Global Descriptors"
   ]
  },
  {
   "cell_type": "markdown",
   "metadata": {},
   "source": [
    "Peptides from APD database"
   ]
  },
  {
   "cell_type": "code",
   "execution_count": 80,
   "metadata": {
    "collapsed": true
   },
   "outputs": [],
   "source": [
    "globdesc_totalAPD.length()  # sequence length\n",
    "globdesc_totalAPD.boman_index(append=True)  # Boman index\n",
    "globdesc_totalAPD.aromaticity(append=True)  # global aromaticity\n",
    "globdesc_totalAPD.aliphatic_index(append=True)  # aliphatic index\n",
    "globdesc_totalAPD.instability_index(append=True)  # instability index\n",
    "globdesc_totalAPD.calculate_charge(ph=7.4, amide=False, append=True)  # net charge\n",
    "globdesc_totalAPD.calculate_MW(amide=False, append=True)  # molecular weight\n",
    "globdesc_totalAPD.isoelectric_point(amide=False,append=True) # isoelectric point\n",
    "globdesc_totalAPD.hydrophobic_ratio(append=True)\n",
    "#globdesc_totalAPD.charge_density(ph=7.4, amide=False, append=True) # charge density (does not work)\n",
    "\n",
    "col_names2 = 'ID, Sequence,Length,BomanIndex,Aromaticity,AliphaticIndex,InstabilityIndex, NetCharge, MW, IsoelectricPoint, HydrophobicRatio'\n",
    "globdesc_totalAPD.save_descriptor('./Descriptors/global_descriptors_totalAPD.csv', header=col_names2)"
   ]
  },
  {
   "cell_type": "markdown",
   "metadata": {},
   "source": [
    "Peptides from Hemolytik database: class1 & model (pm), class0 & model (nm), class1 & validation (pv), class 0 & validation (nv)"
   ]
  },
  {
   "cell_type": "markdown",
   "metadata": {},
   "source": [
    "HemoPI-1 dataset"
   ]
  },
  {
   "cell_type": "code",
   "execution_count": 44,
   "metadata": {
    "collapsed": true
   },
   "outputs": [],
   "source": [
    "globdesc_HemoPI1pm.length()  # sequence length\n",
    "globdesc_HemoPI1pm.boman_index(append=True)  # Boman index\n",
    "globdesc_HemoPI1pm.aromaticity(append=True)  # global aromaticity\n",
    "globdesc_HemoPI1pm.aliphatic_index(append=True)  # aliphatic index\n",
    "globdesc_HemoPI1pm.instability_index(append=True)  # instability index\n",
    "globdesc_HemoPI1pm.calculate_charge(ph=7.4, amide=True, append=True)  # net charge\n",
    "globdesc_HemoPI1pm.calculate_MW(amide=False, append=True)  # molecular weight\n",
    "globdesc_HemoPI1pm.isoelectric_point(amide=False,append=True) # isoelectric point\n",
    "globdesc_HemoPI1pm.hydrophobic_ratio(append=True)\n",
    "#globdesc_HemoPI1pm.charge_density(ph=7.4, amide=False, append=True) # charge density (does not work)\n",
    "\n",
    "col_names2 = 'ID, Sequence,Length,BomanIndex,Aromaticity,AliphaticIndex,InstabilityIndex, NetCharge, MW, IsoelectricPoint, HydrophobicRatio'\n",
    "globdesc_HemoPI1pm.save_descriptor('./Descriptors/global_descriptors_HemoPI1pm.csv', header=col_names2)"
   ]
  },
  {
   "cell_type": "code",
   "execution_count": 45,
   "metadata": {
    "collapsed": true
   },
   "outputs": [],
   "source": [
    "globdesc_HemoPI1nm.length()  # sequence length\n",
    "globdesc_HemoPI1nm.boman_index(append=True)  # Boman index\n",
    "globdesc_HemoPI1nm.aromaticity(append=True)  # global aromaticity\n",
    "globdesc_HemoPI1nm.aliphatic_index(append=True)  # aliphatic index\n",
    "globdesc_HemoPI1nm.instability_index(append=True)  # instability index\n",
    "globdesc_HemoPI1nm.calculate_charge(ph=7.4, amide=True, append=True)  # net charge\n",
    "globdesc_HemoPI1nm.calculate_MW(amide=False, append=True)  # molecular weight\n",
    "globdesc_HemoPI1nm.isoelectric_point(amide=False,append=True) # isoelectric point\n",
    "globdesc_HemoPI1nm.hydrophobic_ratio(append=True)\n",
    "#globdesc_HemoPI1nm.charge_density(ph=7.4, amide=False, append=True) # charge density (does not work)\n",
    "\n",
    "col_names2 = 'ID, Sequence,Length,BomanIndex,Aromaticity,AliphaticIndex,InstabilityIndex, NetCharge, MW, IsoelectricPoint, HydrophobicRatio'\n",
    "globdesc_HemoPI1nm.save_descriptor('./Descriptors/global_descriptors_HemoPI1nm.csv', header=col_names2)"
   ]
  },
  {
   "cell_type": "code",
   "execution_count": 46,
   "metadata": {
    "collapsed": true
   },
   "outputs": [],
   "source": [
    "globdesc_HemoPI1pv.length()  # sequence length\n",
    "globdesc_HemoPI1pv.boman_index(append=True)  # Boman index\n",
    "globdesc_HemoPI1pv.aromaticity(append=True)  # global aromaticity\n",
    "globdesc_HemoPI1pv.aliphatic_index(append=True)  # aliphatic index\n",
    "globdesc_HemoPI1pv.instability_index(append=True)  # instability index\n",
    "globdesc_HemoPI1pv.calculate_charge(ph=7.4, amide=True, append=True)  # net charge\n",
    "globdesc_HemoPI1pv.calculate_MW(amide=False, append=True)  # molecular weight\n",
    "globdesc_HemoPI1pv.isoelectric_point(amide=False,append=True) # isoelectric point\n",
    "globdesc_HemoPI1pv.hydrophobic_ratio(append=True)\n",
    "#globdesc_HemoPI1pv.charge_density(ph=7.4, amide=False, append=True) # charge density (does not work)\n",
    "\n",
    "col_names2 = 'ID, Sequence,Length,BomanIndex,Aromaticity,AliphaticIndex,InstabilityIndex, NetCharge, MW, IsoelectricPoint, HydrophobicRatio'\n",
    "globdesc_HemoPI1pv.save_descriptor('./Descriptors/global_descriptors_HemoPI1pv.csv', header=col_names2)"
   ]
  },
  {
   "cell_type": "code",
   "execution_count": 47,
   "metadata": {
    "collapsed": true
   },
   "outputs": [],
   "source": [
    "globdesc_HemoPI1nv.length()  # sequence length\n",
    "globdesc_HemoPI1nv.boman_index(append=True)  # Boman index\n",
    "globdesc_HemoPI1nv.aromaticity(append=True)  # global aromaticity\n",
    "globdesc_HemoPI1nv.aliphatic_index(append=True)  # aliphatic index\n",
    "globdesc_HemoPI1nv.instability_index(append=True)  # instability index\n",
    "globdesc_HemoPI1nv.calculate_charge(ph=7.4, amide=True, append=True)  # net charge\n",
    "globdesc_HemoPI1nv.calculate_MW(amide=False, append=True)  # molecular weight\n",
    "globdesc_HemoPI1nv.isoelectric_point(amide=False,append=True) # isoelectric point\n",
    "globdesc_HemoPI1nv.hydrophobic_ratio(append=True)\n",
    "#globdesc_HemoPI1nv.charge_density(ph=7.4, amide=False, append=True) # charge density (does not work)\n",
    "\n",
    "col_names2 = 'ID, Sequence,Length,BomanIndex,Aromaticity,AliphaticIndex,InstabilityIndex, NetCharge, MW, IsoelectricPoint, HydrophobicRatio'\n",
    "globdesc_HemoPI1nv.save_descriptor('./Descriptors/global_descriptors_HemoPI1nv.csv', header=col_names2)"
   ]
  },
  {
   "cell_type": "markdown",
   "metadata": {},
   "source": [
    "HemoPI-2 dataset"
   ]
  },
  {
   "cell_type": "code",
   "execution_count": 48,
   "metadata": {
    "collapsed": true
   },
   "outputs": [],
   "source": [
    "globdesc_HemoPI2pm.length()  # sequence length\n",
    "globdesc_HemoPI2pm.boman_index(append=True)  # Boman index\n",
    "globdesc_HemoPI2pm.aromaticity(append=True)  # global aromaticity\n",
    "globdesc_HemoPI2pm.aliphatic_index(append=True)  # aliphatic index\n",
    "globdesc_HemoPI2pm.instability_index(append=True)  # instability index\n",
    "globdesc_HemoPI2pm.calculate_charge(ph=7.4, amide=True, append=True)  # net charge\n",
    "globdesc_HemoPI2pm.calculate_MW(amide=False, append=True)  # molecular weight\n",
    "globdesc_HemoPI2pm.isoelectric_point(amide=False,append=True) # isoelectric point\n",
    "globdesc_HemoPI2pm.hydrophobic_ratio(append=True)\n",
    "#globdesc_HemoPI2pm.charge_density(ph=7.4, amide=False, append=True) # charge density (does not work)\n",
    "\n",
    "col_names2 = 'ID, Sequence,Length,BomanIndex,Aromaticity,AliphaticIndex,InstabilityIndex, NetCharge, MW, IsoelectricPoint, HydrophobicRatio'\n",
    "globdesc_HemoPI2pm.save_descriptor('./Descriptors/global_descriptors_HemoPI2pm.csv', header=col_names2)"
   ]
  },
  {
   "cell_type": "code",
   "execution_count": 49,
   "metadata": {
    "collapsed": true
   },
   "outputs": [],
   "source": [
    "globdesc_HemoPI2nm.length()  # sequence length\n",
    "globdesc_HemoPI2nm.boman_index(append=True)  # Boman index\n",
    "globdesc_HemoPI2nm.aromaticity(append=True)  # global aromaticity\n",
    "globdesc_HemoPI2nm.aliphatic_index(append=True)  # aliphatic index\n",
    "globdesc_HemoPI2nm.instability_index(append=True)  # instability index\n",
    "globdesc_HemoPI2nm.calculate_charge(ph=7.4, amide=True, append=True)  # net charge\n",
    "globdesc_HemoPI2nm.calculate_MW(amide=False, append=True)  # molecular weight\n",
    "globdesc_HemoPI2nm.isoelectric_point(amide=False,append=True) # isoelectric point\n",
    "globdesc_HemoPI2nm.hydrophobic_ratio(append=True)\n",
    "#globdesc_HemoPI2nm.charge_density(ph=7.4, amide=False, append=True) # charge density (does not work)\n",
    "\n",
    "col_names2 = 'ID, Sequence,Length,BomanIndex,Aromaticity,AliphaticIndex,InstabilityIndex, NetCharge, MW, IsoelectricPoint, HydrophobicRatio'\n",
    "globdesc_HemoPI2nm.save_descriptor('./Descriptors/global_descriptors_HemoPI2nm.csv', header=col_names2)"
   ]
  },
  {
   "cell_type": "code",
   "execution_count": 50,
   "metadata": {
    "collapsed": true
   },
   "outputs": [],
   "source": [
    "globdesc_HemoPI2pv.length()  # sequence length\n",
    "globdesc_HemoPI2pv.boman_index(append=True)  # Boman index\n",
    "globdesc_HemoPI2pv.aromaticity(append=True)  # global aromaticity\n",
    "globdesc_HemoPI2pv.aliphatic_index(append=True)  # aliphatic index\n",
    "globdesc_HemoPI2pv.instability_index(append=True)  # instability index\n",
    "globdesc_HemoPI2pv.calculate_charge(ph=7.4, amide=True, append=True)  # net charge\n",
    "globdesc_HemoPI2pv.calculate_MW(amide=False, append=True)  # molecular weight\n",
    "globdesc_HemoPI2pv.isoelectric_point(amide=False,append=True) # isoelectric point\n",
    "globdesc_HemoPI2pv.hydrophobic_ratio(append=True)\n",
    "#globdesc_HemoPI2pv.charge_density(ph=7.4, amide=False, append=True) # charge density (does not work)\n",
    "\n",
    "col_names2 = 'ID, Sequence,Length,BomanIndex,Aromaticity,AliphaticIndex,InstabilityIndex, NetCharge, MW, IsoelectricPoint, HydrophobicRatio'\n",
    "globdesc_HemoPI2pv.save_descriptor('./Descriptors/global_descriptors_HemoPI2pv.csv', header=col_names2)"
   ]
  },
  {
   "cell_type": "code",
   "execution_count": 51,
   "metadata": {
    "collapsed": true
   },
   "outputs": [],
   "source": [
    "globdesc_HemoPI2nv.length()  # sequence length\n",
    "globdesc_HemoPI2nv.boman_index(append=True)  # Boman index\n",
    "globdesc_HemoPI2nv.aromaticity(append=True)  # global aromaticity\n",
    "globdesc_HemoPI2nv.aliphatic_index(append=True)  # aliphatic index\n",
    "globdesc_HemoPI2nv.instability_index(append=True)  # instability index\n",
    "globdesc_HemoPI2nv.calculate_charge(ph=7.4, amide=True, append=True)  # net charge\n",
    "globdesc_HemoPI2nv.calculate_MW(amide=False, append=True)  # molecular weight\n",
    "globdesc_HemoPI2nv.isoelectric_point(amide=False,append=True) # isoelectric point\n",
    "globdesc_HemoPI2nv.hydrophobic_ratio(append=True)\n",
    "#globdesc_HemoPI2nv.charge_density(ph=7.4, amide=False, append=True) # charge density (does not work)\n",
    "\n",
    "col_names2 = 'ID, Sequence,Length,BomanIndex,Aromaticity,AliphaticIndex,InstabilityIndex, NetCharge, MW, IsoelectricPoint, HydrophobicRatio'\n",
    "globdesc_HemoPI2nv.save_descriptor('./Descriptors/global_descriptors_HemoPI2nv.csv', header=col_names2)"
   ]
  },
  {
   "cell_type": "markdown",
   "metadata": {},
   "source": [
    "HemoPI-3 dataset"
   ]
  },
  {
   "cell_type": "code",
   "execution_count": 52,
   "metadata": {
    "collapsed": true
   },
   "outputs": [],
   "source": [
    "globdesc_HemoPI3pm.length()  # sequence length\n",
    "globdesc_HemoPI3pm.boman_index(append=True)  # Boman index\n",
    "globdesc_HemoPI3pm.aromaticity(append=True)  # global aromaticity\n",
    "globdesc_HemoPI3pm.aliphatic_index(append=True)  # aliphatic index\n",
    "globdesc_HemoPI3pm.instability_index(append=True)  # instability index\n",
    "globdesc_HemoPI3pm.calculate_charge(ph=7.4, amide=True, append=True)  # net charge\n",
    "globdesc_HemoPI3pm.calculate_MW(amide=False, append=True)  # molecular weight\n",
    "globdesc_HemoPI3pm.isoelectric_point(amide=False,append=True) # isoelectric point\n",
    "globdesc_HemoPI3pm.hydrophobic_ratio(append=True)\n",
    "#globdesc_HemoPI3pm.charge_density(ph=7.4, amide=False, append=True) # charge density (does not work)\n",
    "\n",
    "col_names2 = 'ID, Sequence,Length,BomanIndex,Aromaticity,AliphaticIndex,InstabilityIndex, NetCharge, MW, IsoelectricPoint, HydrophobicRatio'\n",
    "globdesc_HemoPI3pm.save_descriptor('./Descriptors/global_descriptors_HemoPI3pm.csv', header=col_names2)"
   ]
  },
  {
   "cell_type": "code",
   "execution_count": 53,
   "metadata": {
    "collapsed": true
   },
   "outputs": [],
   "source": [
    "globdesc_HemoPI3nm.length()  # sequence length\n",
    "globdesc_HemoPI3nm.boman_index(append=True)  # Boman index\n",
    "globdesc_HemoPI3nm.aromaticity(append=True)  # global aromaticity\n",
    "globdesc_HemoPI3nm.aliphatic_index(append=True)  # aliphatic index\n",
    "globdesc_HemoPI3nm.instability_index(append=True)  # instability index\n",
    "globdesc_HemoPI3nm.calculate_charge(ph=7.4, amide=True, append=True)  # net charge\n",
    "globdesc_HemoPI3nm.calculate_MW(amide=False, append=True)  # molecular weight\n",
    "globdesc_HemoPI3nm.isoelectric_point(amide=False,append=True) # isoelectric point\n",
    "globdesc_HemoPI3nm.hydrophobic_ratio(append=True)\n",
    "#globdesc_HemoPI3nm.charge_density(ph=7.4, amide=False, append=True) # charge density (does not work)\n",
    "\n",
    "col_names2 = 'ID, Sequence,Length,BomanIndex,Aromaticity,AliphaticIndex,InstabilityIndex, NetCharge, MW, IsoelectricPoint, HydrophobicRatio'\n",
    "globdesc_HemoPI3nm.save_descriptor('./Descriptors/global_descriptors_HemoPI3nm.csv', header=col_names2)"
   ]
  },
  {
   "cell_type": "code",
   "execution_count": 54,
   "metadata": {
    "collapsed": true
   },
   "outputs": [],
   "source": [
    "globdesc_HemoPI3pv.length()  # sequence length\n",
    "globdesc_HemoPI3pv.boman_index(append=True)  # Boman index\n",
    "globdesc_HemoPI3pv.aromaticity(append=True)  # global aromaticity\n",
    "globdesc_HemoPI3pv.aliphatic_index(append=True)  # aliphatic index\n",
    "globdesc_HemoPI3pv.instability_index(append=True)  # instability index\n",
    "globdesc_HemoPI3pv.calculate_charge(ph=7.4, amide=True, append=True)  # net charge\n",
    "globdesc_HemoPI3pv.calculate_MW(amide=False, append=True)  # molecular weight\n",
    "globdesc_HemoPI3pv.isoelectric_point(amide=False,append=True) # isoelectric point\n",
    "globdesc_HemoPI3pv.hydrophobic_ratio(append=True)\n",
    "#globdesc_HemoPI3pv.charge_density(ph=7.4, amide=False, append=True) # charge density (does not work)\n",
    "\n",
    "col_names2 = 'ID, Sequence,Length,BomanIndex,Aromaticity,AliphaticIndex,InstabilityIndex, NetCharge, MW, IsoelectricPoint, HydrophobicRatio'\n",
    "globdesc_HemoPI3pv.save_descriptor('./Descriptors/global_descriptors_HemoPI3pv.csv', header=col_names2)"
   ]
  },
  {
   "cell_type": "code",
   "execution_count": 55,
   "metadata": {
    "collapsed": true
   },
   "outputs": [],
   "source": [
    "globdesc_HemoPI3nv.length()  # sequence length\n",
    "globdesc_HemoPI3nv.boman_index(append=True)  # Boman index\n",
    "globdesc_HemoPI3nv.aromaticity(append=True)  # global aromaticity\n",
    "globdesc_HemoPI3nv.aliphatic_index(append=True)  # aliphatic index\n",
    "globdesc_HemoPI3nv.instability_index(append=True)  # instability index\n",
    "globdesc_HemoPI3nv.calculate_charge(ph=7.4, amide=True, append=True)  # net charge\n",
    "globdesc_HemoPI3nv.calculate_MW(amide=False, append=True)  # molecular weight\n",
    "globdesc_HemoPI3nv.isoelectric_point(amide=False,append=True) # isoelectric point\n",
    "globdesc_HemoPI3nv.hydrophobic_ratio(append=True)\n",
    "#globdesc_HemoPI3nv.charge_density(ph=7.4, amide=False, append=True) # charge density (does not work)\n",
    "\n",
    "col_names2 = 'ID, Sequence,Length,BomanIndex,Aromaticity,AliphaticIndex,InstabilityIndex, NetCharge, MW, IsoelectricPoint, HydrophobicRatio'\n",
    "globdesc_HemoPI3nv.save_descriptor('./Descriptors/global_descriptors_HemoPI3nv.csv', header=col_names2)"
   ]
  },
  {
   "cell_type": "markdown",
   "metadata": {},
   "source": [
    "#### Merge datasets"
   ]
  },
  {
   "cell_type": "markdown",
   "metadata": {},
   "source": [
    "APD dataset"
   ]
  },
  {
   "cell_type": "code",
   "execution_count": null,
   "metadata": {
    "collapsed": true
   },
   "outputs": [],
   "source": [
    "pepdesc_totalAPD = pd.read_csv('./Descriptors/pep_descriptors_totalAPD.csv', index_col=0)\n",
    "globdesc_totalAPD = pd.read_csv('./Descriptors/global_descriptors_totalAPD.csv', index_col=0)\n",
    "totalAPD = pepdesc_totalAPD.join(globdesc_totalAPD)\n",
    "print(totalAPD.shape)"
   ]
  },
  {
   "cell_type": "code",
   "execution_count": null,
   "metadata": {
    "collapsed": true
   },
   "outputs": [],
   "source": [
    "totalAPD.to_csv('./Descriptors/totalAPD_descriptors.csv')"
   ]
  },
  {
   "cell_type": "markdown",
   "metadata": {},
   "source": [
    "HemoPI-1 dataset"
   ]
  },
  {
   "cell_type": "code",
   "execution_count": 92,
   "metadata": {
    "collapsed": true
   },
   "outputs": [],
   "source": [
    "pepdesc_HemoPI1pm = pd.read_csv('./Descriptors/pep_descriptors_HemoPI1pm.csv', index_col=0)\n",
    "globdesc_HemoPI1pm = pd.read_csv('./Descriptors/global_descriptors_HemoPI1pm.csv', index_col=0)\n",
    "HemoPI1pm = pepdesc_HemoPI1pm.join(globdesc_HemoPI1pm)"
   ]
  },
  {
   "cell_type": "code",
   "execution_count": 93,
   "metadata": {
    "collapsed": true
   },
   "outputs": [],
   "source": [
    "pepdesc_HemoPI1nm = pd.read_csv('./Descriptors/pep_descriptors_HemoPI1nm.csv', index_col=0)\n",
    "globdesc_HemoPI1nm = pd.read_csv('./Descriptors/global_descriptors_HemoPI1nm.csv', index_col=0)\n",
    "HemoPI1nm = pepdesc_HemoPI1nm.join(globdesc_HemoPI1nm)"
   ]
  },
  {
   "cell_type": "code",
   "execution_count": 94,
   "metadata": {
    "collapsed": true
   },
   "outputs": [],
   "source": [
    "pepdesc_HemoPI1pv = pd.read_csv('./Descriptors/pep_descriptors_HemoPI1pv.csv', index_col=0)\n",
    "globdesc_HemoPI1pv = pd.read_csv('./Descriptors/global_descriptors_HemoPI1pv.csv', index_col=0)\n",
    "HemoPI1pv = pepdesc_HemoPI1pv.join(globdesc_HemoPI1pv)"
   ]
  },
  {
   "cell_type": "code",
   "execution_count": 95,
   "metadata": {
    "collapsed": true
   },
   "outputs": [],
   "source": [
    "pepdesc_HemoPI1nv = pd.read_csv('./Descriptors/pep_descriptors_HemoPI1nv.csv', index_col=0)\n",
    "globdesc_HemoPI1nv = pd.read_csv('./Descriptors/global_descriptors_HemoPI1nv.csv', index_col=0)\n",
    "HemoPI1nv = pepdesc_HemoPI1nv.join(globdesc_HemoPI1nv)"
   ]
  },
  {
   "cell_type": "code",
   "execution_count": 96,
   "metadata": {
    "collapsed": false,
    "scrolled": true
   },
   "outputs": [
    {
     "name": "stdout",
     "output_type": "stream",
     "text": [
      "((442, 58), (442, 58), (110, 58), (110, 58))\n"
     ]
    }
   ],
   "source": [
    "print(HemoPI1pm.shape, HemoPI1nm.shape, HemoPI1pv.shape, HemoPI1nv.shape)"
   ]
  },
  {
   "cell_type": "markdown",
   "metadata": {},
   "source": [
    "Add classes 1 and 0 to model and validation from HemoPI-1 dataset"
   ]
  },
  {
   "cell_type": "code",
   "execution_count": 128,
   "metadata": {
    "collapsed": true
   },
   "outputs": [],
   "source": [
    "# 884 peptides for model\n",
    "HemoPI1_model = pd.concat([HemoPI1pm, HemoPI1nm], axis=0)\n",
    "HemoPI1_model['y_model_2cl'] = [1]*442 + [0]*442"
   ]
  },
  {
   "cell_type": "code",
   "execution_count": 129,
   "metadata": {
    "collapsed": true
   },
   "outputs": [],
   "source": [
    "# 220 peptides for validation\n",
    "HemoPI1_validation = pd.concat([HemoPI1pv, HemoPI1nv], axis=0)\n",
    "HemoPI1_validation['y_validation_2cl'] = [1]*110 + [0]*110"
   ]
  },
  {
   "cell_type": "markdown",
   "metadata": {},
   "source": [
    "Save HemoPI-1 datasets and 56 modlamp properties to csv files"
   ]
  },
  {
   "cell_type": "code",
   "execution_count": 131,
   "metadata": {
    "collapsed": true
   },
   "outputs": [],
   "source": [
    "HemoPI1_model.to_csv('./Descriptors/HemoPI1_model.csv')\n",
    "HemoPI1_validation.to_csv('./Descriptors/HemoPI1_validation.csv')"
   ]
  },
  {
   "cell_type": "markdown",
   "metadata": {},
   "source": [
    "HemoPI-2 dataset"
   ]
  },
  {
   "cell_type": "code",
   "execution_count": 66,
   "metadata": {
    "collapsed": true
   },
   "outputs": [],
   "source": [
    "pepdesc_HemoPI2pm = pd.read_csv('./Descriptors/pep_descriptors_HemoPI2pm.csv', index_col=0)\n",
    "globdesc_HemoPI2pm = pd.read_csv('./Descriptors/global_descriptors_HemoPI2pm.csv', index_col=0)\n",
    "HemoPI2pm = pepdesc_HemoPI2pm.join(globdesc_HemoPI2pm)"
   ]
  },
  {
   "cell_type": "code",
   "execution_count": 67,
   "metadata": {
    "collapsed": true
   },
   "outputs": [],
   "source": [
    "pepdesc_HemoPI2nm = pd.read_csv('./Descriptors/pep_descriptors_HemoPI2nm.csv', index_col=0)\n",
    "globdesc_HemoPI2nm = pd.read_csv('./Descriptors/global_descriptors_HemoPI2nm.csv', index_col=0)\n",
    "HemoPI2nm = pepdesc_HemoPI2nm.join(globdesc_HemoPI2nm)"
   ]
  },
  {
   "cell_type": "code",
   "execution_count": 68,
   "metadata": {
    "collapsed": true
   },
   "outputs": [],
   "source": [
    "pepdesc_HemoPI2pv = pd.read_csv('./Descriptors/pep_descriptors_HemoPI2pv.csv', index_col=0)\n",
    "globdesc_HemoPI2pv = pd.read_csv('./Descriptors/global_descriptors_HemoPI2pv.csv', index_col=0)\n",
    "HemoPI2pv = pepdesc_HemoPI2pv.join(globdesc_HemoPI2pv)"
   ]
  },
  {
   "cell_type": "code",
   "execution_count": 71,
   "metadata": {
    "collapsed": true
   },
   "outputs": [],
   "source": [
    "pepdesc_HemoPI2nv = pd.read_csv('./Descriptors/pep_descriptors_HemoPI2nv.csv', index_col=0)\n",
    "globdesc_HemoPI2nv = pd.read_csv('./Descriptors/global_descriptors_HemoPI2nv.csv', index_col=0)\n",
    "HemoPI2nv = pepdesc_HemoPI2nv.join(globdesc_HemoPI2nv)"
   ]
  },
  {
   "cell_type": "code",
   "execution_count": 72,
   "metadata": {
    "collapsed": false,
    "scrolled": true
   },
   "outputs": [
    {
     "name": "stdout",
     "output_type": "stream",
     "text": [
      "((442, 58), (370, 58), (110, 58), (92, 58))\n"
     ]
    }
   ],
   "source": [
    "print(HemoPI2pm.shape, HemoPI2nm.shape, HemoPI2pv.shape, HemoPI2nv.shape)"
   ]
  },
  {
   "cell_type": "markdown",
   "metadata": {},
   "source": [
    "Add classes 1 and 0 to model and validation from HemoPI-2 dataset"
   ]
  },
  {
   "cell_type": "code",
   "execution_count": 134,
   "metadata": {
    "collapsed": true
   },
   "outputs": [],
   "source": [
    "HemoPI2_model = pd.concat([HemoPI2pm, HemoPI2nm], axis=0)\n",
    "HemoPI2_model['y_model_2cl'] = [1]*442 + [0]*370"
   ]
  },
  {
   "cell_type": "code",
   "execution_count": 135,
   "metadata": {
    "collapsed": true
   },
   "outputs": [],
   "source": [
    "HemoPI2_validation = pd.concat([HemoPI2pv, HemoPI2nv], axis=0)\n",
    "HemoPI2_validation['y_validation_2cl'] = [1]*110 + [0]*92"
   ]
  },
  {
   "cell_type": "markdown",
   "metadata": {},
   "source": [
    "Save HemoPI-2 datasets and 56 modlamp properties to csv files"
   ]
  },
  {
   "cell_type": "code",
   "execution_count": 137,
   "metadata": {
    "collapsed": true
   },
   "outputs": [],
   "source": [
    "HemoPI2_model.to_csv('./Descriptors/HemoPI2_model.csv')\n",
    "HemoPI2_validation.to_csv('./Descriptors/HemoPI2_validation.csv')"
   ]
  },
  {
   "cell_type": "markdown",
   "metadata": {},
   "source": [
    "HemoPI-3 dataset"
   ]
  },
  {
   "cell_type": "code",
   "execution_count": 74,
   "metadata": {
    "collapsed": true
   },
   "outputs": [],
   "source": [
    "pepdesc_HemoPI3pm = pd.read_csv('./Descriptors/pep_descriptors_HemoPI3pm.csv', index_col=0)\n",
    "globdesc_HemoPI3pm = pd.read_csv('./Descriptors/global_descriptors_HemoPI3pm.csv', index_col=0)\n",
    "HemoPI3pm = pepdesc_HemoPI3pm.join(globdesc_HemoPI3pm)"
   ]
  },
  {
   "cell_type": "code",
   "execution_count": 79,
   "metadata": {
    "collapsed": true
   },
   "outputs": [],
   "source": [
    "pepdesc_HemoPI3nm = pd.read_csv('./Descriptors/pep_descriptors_HemoPI3nm.csv', index_col=0)\n",
    "globdesc_HemoPI3nm = pd.read_csv('./Descriptors/global_descriptors_HemoPI3nm.csv', index_col=0)\n",
    "HemoPI3nm = pepdesc_HemoPI3nm.join(globdesc_HemoPI3nm)"
   ]
  },
  {
   "cell_type": "code",
   "execution_count": 76,
   "metadata": {
    "collapsed": true
   },
   "outputs": [],
   "source": [
    "pepdesc_HemoPI3pv = pd.read_csv('./Descriptors/pep_descriptors_HemoPI3pv.csv', index_col=0)\n",
    "globdesc_HemoPI3pv = pd.read_csv('./Descriptors/global_descriptors_HemoPI3pv.csv', index_col=0)\n",
    "HemoPI3pv = pepdesc_HemoPI3pv.join(globdesc_HemoPI3pv)"
   ]
  },
  {
   "cell_type": "code",
   "execution_count": 77,
   "metadata": {
    "collapsed": true
   },
   "outputs": [],
   "source": [
    "pepdesc_HemoPI3nv = pd.read_csv('./Descriptors/pep_descriptors_HemoPI3nv.csv', index_col=0)\n",
    "globdesc_HemoPI3nv = pd.read_csv('./Descriptors/global_descriptors_HemoPI3nv.csv', index_col=0)\n",
    "HemoPI3nv = pepdesc_HemoPI3nv.join(globdesc_HemoPI3nv)"
   ]
  },
  {
   "cell_type": "code",
   "execution_count": 80,
   "metadata": {
    "collapsed": false,
    "scrolled": true
   },
   "outputs": [
    {
     "name": "stdout",
     "output_type": "stream",
     "text": [
      "((708, 58), (590, 58), (177, 58), (148, 58))\n"
     ]
    }
   ],
   "source": [
    "print(HemoPI3pm.shape, HemoPI3nm.shape, HemoPI3pv.shape, HemoPI3nv.shape)"
   ]
  },
  {
   "cell_type": "markdown",
   "metadata": {},
   "source": [
    "Add classes 1 and 0 to model and validation from HemoPI-3 dataset"
   ]
  },
  {
   "cell_type": "code",
   "execution_count": 139,
   "metadata": {
    "collapsed": true
   },
   "outputs": [],
   "source": [
    "# 1298 peptides for model\n",
    "HemoPI3_model = pd.concat([HemoPI3pm, HemoPI3nm], axis=0)\n",
    "HemoPI3_model['y_model_2cl'] = [1]*708 + [0]*590"
   ]
  },
  {
   "cell_type": "code",
   "execution_count": 145,
   "metadata": {
    "collapsed": true
   },
   "outputs": [],
   "source": [
    "# 325 peptides for validation\n",
    "HemoPI3_validation = pd.concat([HemoPI3pv, HemoPI3nv], axis=0)\n",
    "HemoPI3_validation['y_validation_2cl'] = [1]*177 + [0]*148"
   ]
  },
  {
   "cell_type": "markdown",
   "metadata": {
    "collapsed": true
   },
   "source": [
    "Save HemoPI-3 datasets and 56 modlamp properties to csv files"
   ]
  },
  {
   "cell_type": "code",
   "execution_count": 141,
   "metadata": {
    "collapsed": true
   },
   "outputs": [],
   "source": [
    "HemoPI3_model.to_csv('./Descriptors/HemoPI3_model.csv')\n",
    "HemoPI3_validation.to_csv('./Descriptors/HemoPI3_validation.csv')"
   ]
  }
 ],
 "metadata": {
  "anaconda-cloud": {},
  "kernelspec": {
   "display_name": "Python [py36]",
   "language": "python",
   "name": "Python [py36]"
  },
  "language_info": {
   "codemirror_mode": {
    "name": "ipython",
    "version": 3
   },
   "file_extension": ".py",
   "mimetype": "text/x-python",
   "name": "python",
   "nbconvert_exporter": "python",
   "pygments_lexer": "ipython3",
   "version": "3.6.1"
  }
 },
 "nbformat": 4,
 "nbformat_minor": 2
}
